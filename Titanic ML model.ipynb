{
  "nbformat": 4,
  "nbformat_minor": 0,
  "metadata": {
    "kernelspec": {
      "display_name": "Python 3",
      "language": "python",
      "name": "python3"
    },
    "language_info": {
      "codemirror_mode": {
        "name": "ipython",
        "version": 3
      },
      "file_extension": ".py",
      "mimetype": "text/x-python",
      "name": "python",
      "nbconvert_exporter": "python",
      "pygments_lexer": "ipython3",
      "version": "3.6.3"
    },
    "colab": {
      "name": "MSIS522_Assignment1.ipynb",
      "provenance": [],
      "collapsed_sections": []
    }
  },
  "cells": [
    {
      "cell_type": "markdown",
      "metadata": {
        "id": "_tTHlJ6iM8cJ"
      },
      "source": [
        "# Titanic: Machine Learning from Disaster\n",
        "\n",
        "The sinking of the RMS Titanic is one of the most infamous shipwrecks in history.  On April 15, 1912, during her maiden voyage, the Titanic sank after colliding with an iceberg, killing 1502 out of 2224 passengers and crew. This sensational tragedy shocked the international community and led to better safety regulations for ships.\n",
        "\n",
        "One of the reasons that the shipwreck led to such loss of life was that there were not enough lifeboats for the passengers and crew. Although there was some element of luck involved in surviving the sinking, some groups of people were more likely to survive than others, such as women, children, and the upper-class.\n",
        "\n"
      ]
    },
    {
      "cell_type": "markdown",
      "metadata": {
        "id": "xm7UyiblM8cM"
      },
      "source": [
        "## Goal\n",
        "\n",
        "In this assignment, you will be asked to find insights from the data by using **pandas** to analyze and manipulate the data and **matplotlib** and **seaborn** for data visualization. You will get a bonus point if you can apply a logistic regression model to predict which passengers are more likely to survive in a separate test set. "
      ]
    },
    {
      "cell_type": "code",
      "metadata": {
        "id": "JSB1D5caM8cN"
      },
      "source": [
        "# importing libraries\n",
        "import os\n",
        "import io\n",
        "import warnings\n",
        "\n",
        "import numpy as np\n",
        "import scipy as sp\n",
        "import pandas as pd\n",
        "import sklearn as sk\n",
        "\n",
        "import matplotlib as mpl\n",
        "import matplotlib.pyplot as plt\n",
        "%matplotlib inline\n",
        "import seaborn as sns\n",
        "sns.set()\n",
        "\n",
        "warnings.simplefilter(action='ignore', category=FutureWarning)"
      ],
      "execution_count": null,
      "outputs": []
    },
    {
      "cell_type": "code",
      "metadata": {
        "id": "iVLifp0IM8cQ",
        "colab": {
          "base_uri": "https://localhost:8080/",
          "height": 254
        },
        "outputId": "c212cb38-6591-4e6e-f4ea-c19b3f18092c"
      },
      "source": [
        "# load data\n",
        "titanic = pd.read_csv('https://raw.githubusercontent.com/zariable/data/master/titanic_train.csv')\n",
        "display(titanic.head())"
      ],
      "execution_count": null,
      "outputs": [
        {
          "output_type": "display_data",
          "data": {
            "text/html": [
              "<div>\n",
              "<style scoped>\n",
              "    .dataframe tbody tr th:only-of-type {\n",
              "        vertical-align: middle;\n",
              "    }\n",
              "\n",
              "    .dataframe tbody tr th {\n",
              "        vertical-align: top;\n",
              "    }\n",
              "\n",
              "    .dataframe thead th {\n",
              "        text-align: right;\n",
              "    }\n",
              "</style>\n",
              "<table border=\"1\" class=\"dataframe\">\n",
              "  <thead>\n",
              "    <tr style=\"text-align: right;\">\n",
              "      <th></th>\n",
              "      <th>PassengerId</th>\n",
              "      <th>Survived</th>\n",
              "      <th>Pclass</th>\n",
              "      <th>Name</th>\n",
              "      <th>Sex</th>\n",
              "      <th>Age</th>\n",
              "      <th>SibSp</th>\n",
              "      <th>Parch</th>\n",
              "      <th>Ticket</th>\n",
              "      <th>Fare</th>\n",
              "      <th>Cabin</th>\n",
              "      <th>Embarked</th>\n",
              "    </tr>\n",
              "  </thead>\n",
              "  <tbody>\n",
              "    <tr>\n",
              "      <th>0</th>\n",
              "      <td>1</td>\n",
              "      <td>0</td>\n",
              "      <td>3</td>\n",
              "      <td>Braund, Mr. Owen Harris</td>\n",
              "      <td>male</td>\n",
              "      <td>22.0</td>\n",
              "      <td>1</td>\n",
              "      <td>0</td>\n",
              "      <td>A/5 21171</td>\n",
              "      <td>7.2500</td>\n",
              "      <td>NaN</td>\n",
              "      <td>S</td>\n",
              "    </tr>\n",
              "    <tr>\n",
              "      <th>1</th>\n",
              "      <td>2</td>\n",
              "      <td>1</td>\n",
              "      <td>1</td>\n",
              "      <td>Cumings, Mrs. John Bradley (Florence Briggs Th...</td>\n",
              "      <td>female</td>\n",
              "      <td>38.0</td>\n",
              "      <td>1</td>\n",
              "      <td>0</td>\n",
              "      <td>PC 17599</td>\n",
              "      <td>71.2833</td>\n",
              "      <td>C85</td>\n",
              "      <td>C</td>\n",
              "    </tr>\n",
              "    <tr>\n",
              "      <th>2</th>\n",
              "      <td>3</td>\n",
              "      <td>1</td>\n",
              "      <td>3</td>\n",
              "      <td>Heikkinen, Miss. Laina</td>\n",
              "      <td>female</td>\n",
              "      <td>26.0</td>\n",
              "      <td>0</td>\n",
              "      <td>0</td>\n",
              "      <td>STON/O2. 3101282</td>\n",
              "      <td>7.9250</td>\n",
              "      <td>NaN</td>\n",
              "      <td>S</td>\n",
              "    </tr>\n",
              "    <tr>\n",
              "      <th>3</th>\n",
              "      <td>4</td>\n",
              "      <td>1</td>\n",
              "      <td>1</td>\n",
              "      <td>Futrelle, Mrs. Jacques Heath (Lily May Peel)</td>\n",
              "      <td>female</td>\n",
              "      <td>35.0</td>\n",
              "      <td>1</td>\n",
              "      <td>0</td>\n",
              "      <td>113803</td>\n",
              "      <td>53.1000</td>\n",
              "      <td>C123</td>\n",
              "      <td>S</td>\n",
              "    </tr>\n",
              "    <tr>\n",
              "      <th>4</th>\n",
              "      <td>5</td>\n",
              "      <td>0</td>\n",
              "      <td>3</td>\n",
              "      <td>Allen, Mr. William Henry</td>\n",
              "      <td>male</td>\n",
              "      <td>35.0</td>\n",
              "      <td>0</td>\n",
              "      <td>0</td>\n",
              "      <td>373450</td>\n",
              "      <td>8.0500</td>\n",
              "      <td>NaN</td>\n",
              "      <td>S</td>\n",
              "    </tr>\n",
              "  </tbody>\n",
              "</table>\n",
              "</div>"
            ],
            "text/plain": [
              "   PassengerId  Survived  Pclass  ...     Fare Cabin  Embarked\n",
              "0            1         0       3  ...   7.2500   NaN         S\n",
              "1            2         1       1  ...  71.2833   C85         C\n",
              "2            3         1       3  ...   7.9250   NaN         S\n",
              "3            4         1       1  ...  53.1000  C123         S\n",
              "4            5         0       3  ...   8.0500   NaN         S\n",
              "\n",
              "[5 rows x 12 columns]"
            ]
          },
          "metadata": {
            "tags": []
          }
        }
      ]
    },
    {
      "cell_type": "markdown",
      "metadata": {
        "id": "vXplTCIeM8cT"
      },
      "source": [
        "## Description of the data set\n",
        "Here's a brief description of each column in the data.\n",
        "\n",
        "- PassengerID: A column added by Kaggle to identify each row and make submissions easier\n",
        "- Survived: Whether the passenger survived or not and the value we are predicting (0=No, 1=Yes)\n",
        "- Pclass: The class of the ticket the passenger purchased (1=1st, 2=2nd, 3=3rd)\n",
        "- Sex: The passenger's sex\n",
        "- Age: The passenger's age in years\n",
        "- SibSp: The number of siblings or spouses the passenger had aboard the Titanic\n",
        "- Parch: The number of parents or children the passenger had aboard the Titanic\n",
        "- Ticket: The passenger's ticket number\n",
        "- Fare: The fare the passenger paid\n",
        "- Cabin: The passenger's cabin number\n",
        "- Embarked: The port where the passenger embarked (C=Cherbourg, Q=Queenstown, S=Southampton)"
      ]
    },
    {
      "cell_type": "code",
      "metadata": {
        "id": "hdmTDZGYM8cT",
        "colab": {
          "base_uri": "https://localhost:8080/",
          "height": 390
        },
        "outputId": "49f4db2b-586a-4eb9-b254-db98caf73d0b"
      },
      "source": [
        "titanic.describe(include='all')"
      ],
      "execution_count": null,
      "outputs": [
        {
          "output_type": "execute_result",
          "data": {
            "text/html": [
              "<div>\n",
              "<style scoped>\n",
              "    .dataframe tbody tr th:only-of-type {\n",
              "        vertical-align: middle;\n",
              "    }\n",
              "\n",
              "    .dataframe tbody tr th {\n",
              "        vertical-align: top;\n",
              "    }\n",
              "\n",
              "    .dataframe thead th {\n",
              "        text-align: right;\n",
              "    }\n",
              "</style>\n",
              "<table border=\"1\" class=\"dataframe\">\n",
              "  <thead>\n",
              "    <tr style=\"text-align: right;\">\n",
              "      <th></th>\n",
              "      <th>PassengerId</th>\n",
              "      <th>Survived</th>\n",
              "      <th>Pclass</th>\n",
              "      <th>Name</th>\n",
              "      <th>Sex</th>\n",
              "      <th>Age</th>\n",
              "      <th>SibSp</th>\n",
              "      <th>Parch</th>\n",
              "      <th>Ticket</th>\n",
              "      <th>Fare</th>\n",
              "      <th>Cabin</th>\n",
              "      <th>Embarked</th>\n",
              "    </tr>\n",
              "  </thead>\n",
              "  <tbody>\n",
              "    <tr>\n",
              "      <th>count</th>\n",
              "      <td>891.000000</td>\n",
              "      <td>891.000000</td>\n",
              "      <td>891.000000</td>\n",
              "      <td>891</td>\n",
              "      <td>891</td>\n",
              "      <td>714.000000</td>\n",
              "      <td>891.000000</td>\n",
              "      <td>891.000000</td>\n",
              "      <td>891</td>\n",
              "      <td>891.000000</td>\n",
              "      <td>204</td>\n",
              "      <td>889</td>\n",
              "    </tr>\n",
              "    <tr>\n",
              "      <th>unique</th>\n",
              "      <td>NaN</td>\n",
              "      <td>NaN</td>\n",
              "      <td>NaN</td>\n",
              "      <td>891</td>\n",
              "      <td>2</td>\n",
              "      <td>NaN</td>\n",
              "      <td>NaN</td>\n",
              "      <td>NaN</td>\n",
              "      <td>681</td>\n",
              "      <td>NaN</td>\n",
              "      <td>147</td>\n",
              "      <td>3</td>\n",
              "    </tr>\n",
              "    <tr>\n",
              "      <th>top</th>\n",
              "      <td>NaN</td>\n",
              "      <td>NaN</td>\n",
              "      <td>NaN</td>\n",
              "      <td>Nicholson, Mr. Arthur Ernest</td>\n",
              "      <td>male</td>\n",
              "      <td>NaN</td>\n",
              "      <td>NaN</td>\n",
              "      <td>NaN</td>\n",
              "      <td>1601</td>\n",
              "      <td>NaN</td>\n",
              "      <td>G6</td>\n",
              "      <td>S</td>\n",
              "    </tr>\n",
              "    <tr>\n",
              "      <th>freq</th>\n",
              "      <td>NaN</td>\n",
              "      <td>NaN</td>\n",
              "      <td>NaN</td>\n",
              "      <td>1</td>\n",
              "      <td>577</td>\n",
              "      <td>NaN</td>\n",
              "      <td>NaN</td>\n",
              "      <td>NaN</td>\n",
              "      <td>7</td>\n",
              "      <td>NaN</td>\n",
              "      <td>4</td>\n",
              "      <td>644</td>\n",
              "    </tr>\n",
              "    <tr>\n",
              "      <th>mean</th>\n",
              "      <td>446.000000</td>\n",
              "      <td>0.383838</td>\n",
              "      <td>2.308642</td>\n",
              "      <td>NaN</td>\n",
              "      <td>NaN</td>\n",
              "      <td>29.699118</td>\n",
              "      <td>0.523008</td>\n",
              "      <td>0.381594</td>\n",
              "      <td>NaN</td>\n",
              "      <td>32.204208</td>\n",
              "      <td>NaN</td>\n",
              "      <td>NaN</td>\n",
              "    </tr>\n",
              "    <tr>\n",
              "      <th>std</th>\n",
              "      <td>257.353842</td>\n",
              "      <td>0.486592</td>\n",
              "      <td>0.836071</td>\n",
              "      <td>NaN</td>\n",
              "      <td>NaN</td>\n",
              "      <td>14.526497</td>\n",
              "      <td>1.102743</td>\n",
              "      <td>0.806057</td>\n",
              "      <td>NaN</td>\n",
              "      <td>49.693429</td>\n",
              "      <td>NaN</td>\n",
              "      <td>NaN</td>\n",
              "    </tr>\n",
              "    <tr>\n",
              "      <th>min</th>\n",
              "      <td>1.000000</td>\n",
              "      <td>0.000000</td>\n",
              "      <td>1.000000</td>\n",
              "      <td>NaN</td>\n",
              "      <td>NaN</td>\n",
              "      <td>0.420000</td>\n",
              "      <td>0.000000</td>\n",
              "      <td>0.000000</td>\n",
              "      <td>NaN</td>\n",
              "      <td>0.000000</td>\n",
              "      <td>NaN</td>\n",
              "      <td>NaN</td>\n",
              "    </tr>\n",
              "    <tr>\n",
              "      <th>25%</th>\n",
              "      <td>223.500000</td>\n",
              "      <td>0.000000</td>\n",
              "      <td>2.000000</td>\n",
              "      <td>NaN</td>\n",
              "      <td>NaN</td>\n",
              "      <td>20.125000</td>\n",
              "      <td>0.000000</td>\n",
              "      <td>0.000000</td>\n",
              "      <td>NaN</td>\n",
              "      <td>7.910400</td>\n",
              "      <td>NaN</td>\n",
              "      <td>NaN</td>\n",
              "    </tr>\n",
              "    <tr>\n",
              "      <th>50%</th>\n",
              "      <td>446.000000</td>\n",
              "      <td>0.000000</td>\n",
              "      <td>3.000000</td>\n",
              "      <td>NaN</td>\n",
              "      <td>NaN</td>\n",
              "      <td>28.000000</td>\n",
              "      <td>0.000000</td>\n",
              "      <td>0.000000</td>\n",
              "      <td>NaN</td>\n",
              "      <td>14.454200</td>\n",
              "      <td>NaN</td>\n",
              "      <td>NaN</td>\n",
              "    </tr>\n",
              "    <tr>\n",
              "      <th>75%</th>\n",
              "      <td>668.500000</td>\n",
              "      <td>1.000000</td>\n",
              "      <td>3.000000</td>\n",
              "      <td>NaN</td>\n",
              "      <td>NaN</td>\n",
              "      <td>38.000000</td>\n",
              "      <td>1.000000</td>\n",
              "      <td>0.000000</td>\n",
              "      <td>NaN</td>\n",
              "      <td>31.000000</td>\n",
              "      <td>NaN</td>\n",
              "      <td>NaN</td>\n",
              "    </tr>\n",
              "    <tr>\n",
              "      <th>max</th>\n",
              "      <td>891.000000</td>\n",
              "      <td>1.000000</td>\n",
              "      <td>3.000000</td>\n",
              "      <td>NaN</td>\n",
              "      <td>NaN</td>\n",
              "      <td>80.000000</td>\n",
              "      <td>8.000000</td>\n",
              "      <td>6.000000</td>\n",
              "      <td>NaN</td>\n",
              "      <td>512.329200</td>\n",
              "      <td>NaN</td>\n",
              "      <td>NaN</td>\n",
              "    </tr>\n",
              "  </tbody>\n",
              "</table>\n",
              "</div>"
            ],
            "text/plain": [
              "        PassengerId    Survived      Pclass  ...        Fare Cabin  Embarked\n",
              "count    891.000000  891.000000  891.000000  ...  891.000000   204       889\n",
              "unique          NaN         NaN         NaN  ...         NaN   147         3\n",
              "top             NaN         NaN         NaN  ...         NaN    G6         S\n",
              "freq            NaN         NaN         NaN  ...         NaN     4       644\n",
              "mean     446.000000    0.383838    2.308642  ...   32.204208   NaN       NaN\n",
              "std      257.353842    0.486592    0.836071  ...   49.693429   NaN       NaN\n",
              "min        1.000000    0.000000    1.000000  ...    0.000000   NaN       NaN\n",
              "25%      223.500000    0.000000    2.000000  ...    7.910400   NaN       NaN\n",
              "50%      446.000000    0.000000    3.000000  ...   14.454200   NaN       NaN\n",
              "75%      668.500000    1.000000    3.000000  ...   31.000000   NaN       NaN\n",
              "max      891.000000    1.000000    3.000000  ...  512.329200   NaN       NaN\n",
              "\n",
              "[11 rows x 12 columns]"
            ]
          },
          "metadata": {
            "tags": []
          },
          "execution_count": 130
        }
      ]
    },
    {
      "cell_type": "markdown",
      "metadata": {
        "id": "zqrQG_NpM8cW"
      },
      "source": [
        "### **Question 1: Find the number of missing values for each column.**\n",
        "The first step in data analysis is to identify columns with missing data. Can you find the columns in this data with missing value as well as the number of records with missing value for each column?  \n",
        "\n",
        "Hint: you will need [isna](https://pandas.pydata.org/pandas-docs/stable/generated/pandas.DataFrame.isna.html) function."
      ]
    },
    {
      "cell_type": "code",
      "metadata": {
        "id": "q-yVQIkVM8cW",
        "colab": {
          "base_uri": "https://localhost:8080/"
        },
        "outputId": "9419bdc0-42a4-430f-bcb5-25397d98bc5a"
      },
      "source": [
        "# TODO\n",
        "print(\"\\nMissing values :  \", titanic.isna().sum())"
      ],
      "execution_count": null,
      "outputs": [
        {
          "output_type": "stream",
          "text": [
            "\n",
            "Missing values :   PassengerId      0\n",
            "Survived         0\n",
            "Pclass           0\n",
            "Name             0\n",
            "Sex              0\n",
            "Age            177\n",
            "SibSp            0\n",
            "Parch            0\n",
            "Ticket           0\n",
            "Fare             0\n",
            "Cabin          687\n",
            "Embarked         2\n",
            "dtype: int64\n"
          ],
          "name": "stdout"
        }
      ]
    },
    {
      "cell_type": "markdown",
      "metadata": {
        "id": "dyv7SbkjM8cY"
      },
      "source": [
        "### **Question 2: Impute missing values.**\n",
        "Now we've identified the following columns with missing values: _Age_, _Cabin_ and _Embarked_. As the next step, we want to impute those missing values. There are three ways to impute the missing values:\n",
        "- A constant value that has meaning within the domain.\n",
        "- The mean, median or mode value based on non-missing values of that column.\n",
        "- A random value drawn from other non-missing values of that column.\n",
        "\n",
        "Please write code to impute the missing values as follows:\n",
        "- the missing values of column _age_ with the mean of that column.\n",
        "- the missing values of column _Cabin_ with a constant value 'other'.\n",
        "- the missing values of column _Embarked_ with the [mode](https://pandas.pydata.org/pandas-docs/stable/generated/pandas.DataFrame.mode.html) of that column."
      ]
    },
    {
      "cell_type": "code",
      "metadata": {
        "id": "TfCy8py-M8cZ"
      },
      "source": [
        "# TODO\n",
        "titanic['Age']=titanic['Age'].replace(np.nan, round(np.mean(titanic['Age']),2))\n",
        "titanic['Cabin']=titanic['Cabin'].replace(np.nan, 'Other')\n",
        "titanic['Embarked']=titanic['Embarked'].replace(np.nan,(titanic['Embarked'].mode()[0]))\n"
      ],
      "execution_count": null,
      "outputs": []
    },
    {
      "cell_type": "code",
      "metadata": {
        "colab": {
          "base_uri": "https://localhost:8080/"
        },
        "id": "JG-l9rxey3GG",
        "outputId": "5af12b0c-777d-41aa-9401-c70ffd1ed181"
      },
      "source": [
        "titanic.isna().sum()"
      ],
      "execution_count": null,
      "outputs": [
        {
          "output_type": "execute_result",
          "data": {
            "text/plain": [
              "PassengerId    0\n",
              "Survived       0\n",
              "Pclass         0\n",
              "Name           0\n",
              "Sex            0\n",
              "Age            0\n",
              "SibSp          0\n",
              "Parch          0\n",
              "Ticket         0\n",
              "Fare           0\n",
              "Cabin          0\n",
              "Embarked       0\n",
              "dependents     0\n",
              "dtype: int64"
            ]
          },
          "metadata": {
            "tags": []
          },
          "execution_count": 36
        }
      ]
    },
    {
      "cell_type": "code",
      "metadata": {
        "colab": {
          "base_uri": "https://localhost:8080/",
          "height": 204
        },
        "id": "KC3LBOgMzdy1",
        "outputId": "1699f1b8-4d59-461e-890c-7f2011014644"
      },
      "source": [
        "titanic.head()"
      ],
      "execution_count": null,
      "outputs": [
        {
          "output_type": "execute_result",
          "data": {
            "text/html": [
              "<div>\n",
              "<style scoped>\n",
              "    .dataframe tbody tr th:only-of-type {\n",
              "        vertical-align: middle;\n",
              "    }\n",
              "\n",
              "    .dataframe tbody tr th {\n",
              "        vertical-align: top;\n",
              "    }\n",
              "\n",
              "    .dataframe thead th {\n",
              "        text-align: right;\n",
              "    }\n",
              "</style>\n",
              "<table border=\"1\" class=\"dataframe\">\n",
              "  <thead>\n",
              "    <tr style=\"text-align: right;\">\n",
              "      <th></th>\n",
              "      <th>PassengerId</th>\n",
              "      <th>Survived</th>\n",
              "      <th>Pclass</th>\n",
              "      <th>Name</th>\n",
              "      <th>Sex</th>\n",
              "      <th>Age</th>\n",
              "      <th>SibSp</th>\n",
              "      <th>Parch</th>\n",
              "      <th>Ticket</th>\n",
              "      <th>Fare</th>\n",
              "      <th>Cabin</th>\n",
              "      <th>Embarked</th>\n",
              "    </tr>\n",
              "  </thead>\n",
              "  <tbody>\n",
              "    <tr>\n",
              "      <th>0</th>\n",
              "      <td>1</td>\n",
              "      <td>0</td>\n",
              "      <td>3</td>\n",
              "      <td>Braund, Mr. Owen Harris</td>\n",
              "      <td>male</td>\n",
              "      <td>22.0</td>\n",
              "      <td>1</td>\n",
              "      <td>0</td>\n",
              "      <td>A/5 21171</td>\n",
              "      <td>7.2500</td>\n",
              "      <td>Other</td>\n",
              "      <td>S</td>\n",
              "    </tr>\n",
              "    <tr>\n",
              "      <th>1</th>\n",
              "      <td>2</td>\n",
              "      <td>1</td>\n",
              "      <td>1</td>\n",
              "      <td>Cumings, Mrs. John Bradley (Florence Briggs Th...</td>\n",
              "      <td>female</td>\n",
              "      <td>38.0</td>\n",
              "      <td>1</td>\n",
              "      <td>0</td>\n",
              "      <td>PC 17599</td>\n",
              "      <td>71.2833</td>\n",
              "      <td>C85</td>\n",
              "      <td>C</td>\n",
              "    </tr>\n",
              "    <tr>\n",
              "      <th>2</th>\n",
              "      <td>3</td>\n",
              "      <td>1</td>\n",
              "      <td>3</td>\n",
              "      <td>Heikkinen, Miss. Laina</td>\n",
              "      <td>female</td>\n",
              "      <td>26.0</td>\n",
              "      <td>0</td>\n",
              "      <td>0</td>\n",
              "      <td>STON/O2. 3101282</td>\n",
              "      <td>7.9250</td>\n",
              "      <td>Other</td>\n",
              "      <td>S</td>\n",
              "    </tr>\n",
              "    <tr>\n",
              "      <th>3</th>\n",
              "      <td>4</td>\n",
              "      <td>1</td>\n",
              "      <td>1</td>\n",
              "      <td>Futrelle, Mrs. Jacques Heath (Lily May Peel)</td>\n",
              "      <td>female</td>\n",
              "      <td>35.0</td>\n",
              "      <td>1</td>\n",
              "      <td>0</td>\n",
              "      <td>113803</td>\n",
              "      <td>53.1000</td>\n",
              "      <td>C123</td>\n",
              "      <td>S</td>\n",
              "    </tr>\n",
              "    <tr>\n",
              "      <th>4</th>\n",
              "      <td>5</td>\n",
              "      <td>0</td>\n",
              "      <td>3</td>\n",
              "      <td>Allen, Mr. William Henry</td>\n",
              "      <td>male</td>\n",
              "      <td>35.0</td>\n",
              "      <td>0</td>\n",
              "      <td>0</td>\n",
              "      <td>373450</td>\n",
              "      <td>8.0500</td>\n",
              "      <td>Other</td>\n",
              "      <td>S</td>\n",
              "    </tr>\n",
              "  </tbody>\n",
              "</table>\n",
              "</div>"
            ],
            "text/plain": [
              "   PassengerId  Survived  Pclass  ...     Fare  Cabin  Embarked\n",
              "0            1         0       3  ...   7.2500  Other         S\n",
              "1            2         1       1  ...  71.2833    C85         C\n",
              "2            3         1       3  ...   7.9250  Other         S\n",
              "3            4         1       1  ...  53.1000   C123         S\n",
              "4            5         0       3  ...   8.0500  Other         S\n",
              "\n",
              "[5 rows x 12 columns]"
            ]
          },
          "metadata": {
            "tags": []
          },
          "execution_count": 8
        }
      ]
    },
    {
      "cell_type": "markdown",
      "metadata": {
        "id": "slueIatrM8cb"
      },
      "source": [
        "### **Question 3: What's the name of the person who has the 16th most expensive ticket?**"
      ]
    },
    {
      "cell_type": "code",
      "metadata": {
        "id": "U9TFxZAfM8cc",
        "colab": {
          "base_uri": "https://localhost:8080/",
          "height": 35
        },
        "outputId": "75c458d3-bc68-4ff0-acdc-36f69ab0eeb5"
      },
      "source": [
        "# TODO\n",
        "titanic.sort_values('Fare',ascending=False,inplace=True)\n",
        "titanic.reset_index(inplace=True)\n",
        "titanic.loc[15,'Name']\n",
        "\n"
      ],
      "execution_count": null,
      "outputs": [
        {
          "output_type": "execute_result",
          "data": {
            "application/vnd.google.colaboratory.intrinsic+json": {
              "type": "string"
            },
            "text/plain": [
              "'Farthing, Mr. John'"
            ]
          },
          "metadata": {
            "tags": []
          },
          "execution_count": 28
        }
      ]
    },
    {
      "cell_type": "code",
      "metadata": {
        "id": "cbaeLgU1Z5yb"
      },
      "source": [
        "pd.set_option('display.max_rows', None)\n",
        "pd.set_option('display.max_columns', 100)"
      ],
      "execution_count": null,
      "outputs": []
    },
    {
      "cell_type": "markdown",
      "metadata": {
        "id": "F8M_Rpepwowq"
      },
      "source": [
        "### *** Answer 3: Farthing, Mr. John***"
      ]
    },
    {
      "cell_type": "markdown",
      "metadata": {
        "id": "upj1tS2AM8ce"
      },
      "source": [
        "### **Question 4: Out of all the remales who survived, what's the name who has the 6th most expensive ticket?**"
      ]
    },
    {
      "cell_type": "code",
      "metadata": {
        "id": "tXywVrsoM8ce",
        "colab": {
          "base_uri": "https://localhost:8080/",
          "height": 35
        },
        "outputId": "1ac66abb-11a7-49ba-a356-4fdf0581ae62"
      },
      "source": [
        "# TODO\n",
        "z=titanic.loc [(titanic['Sex']=='female'),:]\n",
        "z.iloc[5,5]\n",
        "\n"
      ],
      "execution_count": null,
      "outputs": [
        {
          "output_type": "execute_result",
          "data": {
            "application/vnd.google.colaboratory.intrinsic+json": {
              "type": "string"
            },
            "text/plain": [
              "'Baxter, Mrs. James (Helene DeLaudeniere Chaput)'"
            ]
          },
          "metadata": {
            "tags": []
          },
          "execution_count": 42
        }
      ]
    },
    {
      "cell_type": "markdown",
      "metadata": {
        "id": "-D3uUWAUw37O"
      },
      "source": [
        "### *** Answer 4: Baxter, Mrs. James (Helene DeLaudeniere Chaput) ***"
      ]
    },
    {
      "cell_type": "markdown",
      "metadata": {
        "id": "oXaAaaY3M8cg"
      },
      "source": [
        "### **Question 5: Examine the survival rate**\n",
        "Calculate the survival rate for different gender and Pclass combination and use a couple of sentences to describe your findings. Hint: pivot_table is your friend."
      ]
    },
    {
      "cell_type": "code",
      "metadata": {
        "id": "GsBOqDRvM8ch",
        "colab": {
          "base_uri": "https://localhost:8080/",
          "height": 204
        },
        "outputId": "b2a45d77-f070-4188-cf3f-459805622b4e"
      },
      "source": [
        "# TODO\n",
        "titanic.head()"
      ],
      "execution_count": null,
      "outputs": [
        {
          "output_type": "execute_result",
          "data": {
            "text/html": [
              "<div>\n",
              "<style scoped>\n",
              "    .dataframe tbody tr th:only-of-type {\n",
              "        vertical-align: middle;\n",
              "    }\n",
              "\n",
              "    .dataframe tbody tr th {\n",
              "        vertical-align: top;\n",
              "    }\n",
              "\n",
              "    .dataframe thead th {\n",
              "        text-align: right;\n",
              "    }\n",
              "</style>\n",
              "<table border=\"1\" class=\"dataframe\">\n",
              "  <thead>\n",
              "    <tr style=\"text-align: right;\">\n",
              "      <th></th>\n",
              "      <th>level_0</th>\n",
              "      <th>index</th>\n",
              "      <th>PassengerId</th>\n",
              "      <th>Survived</th>\n",
              "      <th>Pclass</th>\n",
              "      <th>Name</th>\n",
              "      <th>Sex</th>\n",
              "      <th>Age</th>\n",
              "      <th>SibSp</th>\n",
              "      <th>Parch</th>\n",
              "      <th>Ticket</th>\n",
              "      <th>Fare</th>\n",
              "      <th>Cabin</th>\n",
              "      <th>Embarked</th>\n",
              "    </tr>\n",
              "  </thead>\n",
              "  <tbody>\n",
              "    <tr>\n",
              "      <th>0</th>\n",
              "      <td>0</td>\n",
              "      <td>258</td>\n",
              "      <td>259</td>\n",
              "      <td>1</td>\n",
              "      <td>1</td>\n",
              "      <td>Ward, Miss. Anna</td>\n",
              "      <td>female</td>\n",
              "      <td>35.0</td>\n",
              "      <td>0</td>\n",
              "      <td>0</td>\n",
              "      <td>PC 17755</td>\n",
              "      <td>512.3292</td>\n",
              "      <td>Other</td>\n",
              "      <td>C</td>\n",
              "    </tr>\n",
              "    <tr>\n",
              "      <th>1</th>\n",
              "      <td>2</td>\n",
              "      <td>737</td>\n",
              "      <td>738</td>\n",
              "      <td>1</td>\n",
              "      <td>1</td>\n",
              "      <td>Lesurer, Mr. Gustave J</td>\n",
              "      <td>male</td>\n",
              "      <td>35.0</td>\n",
              "      <td>0</td>\n",
              "      <td>0</td>\n",
              "      <td>PC 17755</td>\n",
              "      <td>512.3292</td>\n",
              "      <td>B101</td>\n",
              "      <td>C</td>\n",
              "    </tr>\n",
              "    <tr>\n",
              "      <th>2</th>\n",
              "      <td>1</td>\n",
              "      <td>679</td>\n",
              "      <td>680</td>\n",
              "      <td>1</td>\n",
              "      <td>1</td>\n",
              "      <td>Cardeza, Mr. Thomas Drake Martinez</td>\n",
              "      <td>male</td>\n",
              "      <td>36.0</td>\n",
              "      <td>0</td>\n",
              "      <td>1</td>\n",
              "      <td>PC 17755</td>\n",
              "      <td>512.3292</td>\n",
              "      <td>B51 B53 B55</td>\n",
              "      <td>C</td>\n",
              "    </tr>\n",
              "    <tr>\n",
              "      <th>3</th>\n",
              "      <td>3</td>\n",
              "      <td>88</td>\n",
              "      <td>89</td>\n",
              "      <td>1</td>\n",
              "      <td>1</td>\n",
              "      <td>Fortune, Miss. Mabel Helen</td>\n",
              "      <td>female</td>\n",
              "      <td>23.0</td>\n",
              "      <td>3</td>\n",
              "      <td>2</td>\n",
              "      <td>19950</td>\n",
              "      <td>263.0000</td>\n",
              "      <td>C23 C25 C27</td>\n",
              "      <td>S</td>\n",
              "    </tr>\n",
              "    <tr>\n",
              "      <th>4</th>\n",
              "      <td>6</td>\n",
              "      <td>27</td>\n",
              "      <td>28</td>\n",
              "      <td>0</td>\n",
              "      <td>1</td>\n",
              "      <td>Fortune, Mr. Charles Alexander</td>\n",
              "      <td>male</td>\n",
              "      <td>19.0</td>\n",
              "      <td>3</td>\n",
              "      <td>2</td>\n",
              "      <td>19950</td>\n",
              "      <td>263.0000</td>\n",
              "      <td>C23 C25 C27</td>\n",
              "      <td>S</td>\n",
              "    </tr>\n",
              "  </tbody>\n",
              "</table>\n",
              "</div>"
            ],
            "text/plain": [
              "   level_0  index  PassengerId  Survived  Pclass  \\\n",
              "0        0    258          259         1       1   \n",
              "1        2    737          738         1       1   \n",
              "2        1    679          680         1       1   \n",
              "3        3     88           89         1       1   \n",
              "4        6     27           28         0       1   \n",
              "\n",
              "                                 Name     Sex   Age  SibSp  Parch    Ticket  \\\n",
              "0                    Ward, Miss. Anna  female  35.0      0      0  PC 17755   \n",
              "1              Lesurer, Mr. Gustave J    male  35.0      0      0  PC 17755   \n",
              "2  Cardeza, Mr. Thomas Drake Martinez    male  36.0      0      1  PC 17755   \n",
              "3          Fortune, Miss. Mabel Helen  female  23.0      3      2     19950   \n",
              "4      Fortune, Mr. Charles Alexander    male  19.0      3      2     19950   \n",
              "\n",
              "       Fare        Cabin Embarked  \n",
              "0  512.3292        Other        C  \n",
              "1  512.3292         B101        C  \n",
              "2  512.3292  B51 B53 B55        C  \n",
              "3  263.0000  C23 C25 C27        S  \n",
              "4  263.0000  C23 C25 C27        S  "
            ]
          },
          "metadata": {
            "tags": []
          },
          "execution_count": 44
        }
      ]
    },
    {
      "cell_type": "code",
      "metadata": {
        "colab": {
          "base_uri": "https://localhost:8080/",
          "height": 142
        },
        "id": "a5Tqo_oI8tev",
        "outputId": "9e2dd3e9-17d3-4af0-fa97-5bfea4d3e6f1"
      },
      "source": [
        "titanic.pivot_table('Survived','Sex')*100"
      ],
      "execution_count": null,
      "outputs": [
        {
          "output_type": "execute_result",
          "data": {
            "text/html": [
              "<div>\n",
              "<style scoped>\n",
              "    .dataframe tbody tr th:only-of-type {\n",
              "        vertical-align: middle;\n",
              "    }\n",
              "\n",
              "    .dataframe tbody tr th {\n",
              "        vertical-align: top;\n",
              "    }\n",
              "\n",
              "    .dataframe thead th {\n",
              "        text-align: right;\n",
              "    }\n",
              "</style>\n",
              "<table border=\"1\" class=\"dataframe\">\n",
              "  <thead>\n",
              "    <tr style=\"text-align: right;\">\n",
              "      <th></th>\n",
              "      <th>Survived</th>\n",
              "    </tr>\n",
              "    <tr>\n",
              "      <th>Sex</th>\n",
              "      <th></th>\n",
              "    </tr>\n",
              "  </thead>\n",
              "  <tbody>\n",
              "    <tr>\n",
              "      <th>female</th>\n",
              "      <td>74.203822</td>\n",
              "    </tr>\n",
              "    <tr>\n",
              "      <th>male</th>\n",
              "      <td>18.890815</td>\n",
              "    </tr>\n",
              "  </tbody>\n",
              "</table>\n",
              "</div>"
            ],
            "text/plain": [
              "         Survived\n",
              "Sex              \n",
              "female  74.203822\n",
              "male    18.890815"
            ]
          },
          "metadata": {
            "tags": []
          },
          "execution_count": 45
        }
      ]
    },
    {
      "cell_type": "code",
      "metadata": {
        "colab": {
          "base_uri": "https://localhost:8080/",
          "height": 173
        },
        "id": "8mjhjFtbJfSc",
        "outputId": "484dbf64-8855-4e86-c85f-0ffe9b108d21"
      },
      "source": [
        "titanic.pivot_table('Survived','Pclass')*100"
      ],
      "execution_count": null,
      "outputs": [
        {
          "output_type": "execute_result",
          "data": {
            "text/html": [
              "<div>\n",
              "<style scoped>\n",
              "    .dataframe tbody tr th:only-of-type {\n",
              "        vertical-align: middle;\n",
              "    }\n",
              "\n",
              "    .dataframe tbody tr th {\n",
              "        vertical-align: top;\n",
              "    }\n",
              "\n",
              "    .dataframe thead th {\n",
              "        text-align: right;\n",
              "    }\n",
              "</style>\n",
              "<table border=\"1\" class=\"dataframe\">\n",
              "  <thead>\n",
              "    <tr style=\"text-align: right;\">\n",
              "      <th></th>\n",
              "      <th>Survived</th>\n",
              "    </tr>\n",
              "    <tr>\n",
              "      <th>Pclass</th>\n",
              "      <th></th>\n",
              "    </tr>\n",
              "  </thead>\n",
              "  <tbody>\n",
              "    <tr>\n",
              "      <th>1</th>\n",
              "      <td>62.962963</td>\n",
              "    </tr>\n",
              "    <tr>\n",
              "      <th>2</th>\n",
              "      <td>47.282609</td>\n",
              "    </tr>\n",
              "    <tr>\n",
              "      <th>3</th>\n",
              "      <td>24.236253</td>\n",
              "    </tr>\n",
              "  </tbody>\n",
              "</table>\n",
              "</div>"
            ],
            "text/plain": [
              "         Survived\n",
              "Pclass           \n",
              "1       62.962963\n",
              "2       47.282609\n",
              "3       24.236253"
            ]
          },
          "metadata": {
            "tags": []
          },
          "execution_count": 46
        }
      ]
    },
    {
      "cell_type": "code",
      "metadata": {
        "colab": {
          "base_uri": "https://localhost:8080/",
          "height": 142
        },
        "id": "Qdf060gYJoRf",
        "outputId": "25aa1d26-43e5-4b8e-b60b-07958836b8ca"
      },
      "source": [
        "titanic.pivot_table('Survived','Sex','Pclass')"
      ],
      "execution_count": null,
      "outputs": [
        {
          "output_type": "execute_result",
          "data": {
            "text/html": [
              "<div>\n",
              "<style scoped>\n",
              "    .dataframe tbody tr th:only-of-type {\n",
              "        vertical-align: middle;\n",
              "    }\n",
              "\n",
              "    .dataframe tbody tr th {\n",
              "        vertical-align: top;\n",
              "    }\n",
              "\n",
              "    .dataframe thead th {\n",
              "        text-align: right;\n",
              "    }\n",
              "</style>\n",
              "<table border=\"1\" class=\"dataframe\">\n",
              "  <thead>\n",
              "    <tr style=\"text-align: right;\">\n",
              "      <th>Pclass</th>\n",
              "      <th>1</th>\n",
              "      <th>2</th>\n",
              "      <th>3</th>\n",
              "    </tr>\n",
              "    <tr>\n",
              "      <th>Sex</th>\n",
              "      <th></th>\n",
              "      <th></th>\n",
              "      <th></th>\n",
              "    </tr>\n",
              "  </thead>\n",
              "  <tbody>\n",
              "    <tr>\n",
              "      <th>female</th>\n",
              "      <td>0.968085</td>\n",
              "      <td>0.921053</td>\n",
              "      <td>0.500000</td>\n",
              "    </tr>\n",
              "    <tr>\n",
              "      <th>male</th>\n",
              "      <td>0.368852</td>\n",
              "      <td>0.157407</td>\n",
              "      <td>0.135447</td>\n",
              "    </tr>\n",
              "  </tbody>\n",
              "</table>\n",
              "</div>"
            ],
            "text/plain": [
              "Pclass         1         2         3\n",
              "Sex                                 \n",
              "female  0.968085  0.921053  0.500000\n",
              "male    0.368852  0.157407  0.135447"
            ]
          },
          "metadata": {
            "tags": []
          },
          "execution_count": 14
        }
      ]
    },
    {
      "cell_type": "markdown",
      "metadata": {
        "id": "h8mmUpDTxgq4"
      },
      "source": [
        "### ***  Answer 5: Female from 1st and 2 nd class survived at much higher rate (90%+) compare to other classes. Male from 1st class survived (36.8%) much better than male of other classes. Survival rate of female is much higher than male ***"
      ]
    },
    {
      "cell_type": "markdown",
      "metadata": {
        "id": "Jl8IY-XjM8cj"
      },
      "source": [
        "### **Question 6: Is Age or Fare an important factor to one's chance of survival?**\n",
        "Visualize the distribution of Column _Age_ for both survived and non-survived population and write down your findings based on the visualization."
      ]
    },
    {
      "cell_type": "code",
      "metadata": {
        "colab": {
          "base_uri": "https://localhost:8080/",
          "height": 318
        },
        "id": "ovG_2D6xRPVs",
        "outputId": "fe217a6b-2bff-46a8-91ba-87ed6d18db5d"
      },
      "source": [
        "\n",
        "ax0= plt.hist(titanic.loc[titanic['Survived']==1]['Age'], density=True, color='g', alpha=0.6, )\n",
        "ax1= plt.hist(titanic.loc[titanic['Survived']==0]['Age'], density=True,color='r',alpha=0.6)\n",
        "plt.legend(['Survived','Didn''t survive'])\n",
        "plt.title(\"Survival density by age \")\n",
        "plt.xlabel(\"Age\")\n",
        "plt.ylabel(\"Density\")"
      ],
      "execution_count": null,
      "outputs": [
        {
          "output_type": "execute_result",
          "data": {
            "text/plain": [
              "Text(0, 0.5, 'Density')"
            ]
          },
          "metadata": {
            "tags": []
          },
          "execution_count": 15
        },
        {
          "output_type": "display_data",
          "data": {
            "image/png": "[encoded data removed]",
            "text/plain": [
              "<Figure size 432x288 with 1 Axes>"
            ]
          },
          "metadata": {
            "tags": []
          }
        }
      ]
    },
    {
      "cell_type": "code",
      "metadata": {
        "colab": {
          "base_uri": "https://localhost:8080/",
          "height": 318
        },
        "id": "FiROqGKZQZm_",
        "outputId": "8e0c22e6-19c6-4add-ca9d-b4773e4d36e6"
      },
      "source": [
        "ax0= plt.hist(titanic.loc[titanic['Survived']==1]['Fare'], density=True, color='g', alpha=0.6, )\n",
        "ax1= plt.hist(titanic.loc[titanic['Survived']==0]['Fare'], density=True,color='r',alpha=0.6)\n",
        "plt.legend(['Survived','Didn''t survive'])\n",
        "plt.title(\"Survival density by fare \")\n",
        "plt.xlabel(\"Fare\")\n",
        "plt.ylabel(\"Density\")"
      ],
      "execution_count": null,
      "outputs": [
        {
          "output_type": "execute_result",
          "data": {
            "text/plain": [
              "Text(0, 0.5, 'Density')"
            ]
          },
          "metadata": {
            "tags": []
          },
          "execution_count": 16
        },
        {
          "output_type": "display_data",
          "data": {
            "image/png": "[encoded data removed]",
            "text/plain": [
              "<Figure size 432x288 with 1 Axes>"
            ]
          },
          "metadata": {
            "tags": []
          }
        }
      ]
    },
    {
      "cell_type": "markdown",
      "metadata": {
        "id": "lPvy2YqIySR4"
      },
      "source": [
        "### *** Answer 6: Age and Fare are important factor for once's survival. It is noted from the graphs that everyone who paid a ticket price of $200 and above survived and the survival rate of someone who paid lowest fare is much lower. Children survived much higher compared to perople of age 20-35 ***"
      ]
    },
    {
      "cell_type": "markdown",
      "metadata": {
        "id": "DiigUZriM8cl"
      },
      "source": [
        "### **Question 7: Calculate and visualize the survival rate for discrete columns**\n",
        "- Calculate the survival rate for column _SibSp_ and _Parch_.\n",
        "- Use sns.barplot to visualize the survival rate for column _SibSp_ and _Parch_."
      ]
    },
    {
      "cell_type": "code",
      "metadata": {
        "id": "DqHs4imSM8cm",
        "colab": {
          "base_uri": "https://localhost:8080/",
          "height": 142
        },
        "outputId": "ab13ae69-5424-4b43-9655-f3e25655e711"
      },
      "source": [
        "# TODO\n",
        "x=pd.DataFrame(titanic, columns=['Survived','SibSp','Parch'])\n",
        "x1= x.groupby(['Survived'], as_index=True).agg({'SibSp':'sum','Parch':'sum'})\n",
        "x1"
      ],
      "execution_count": null,
      "outputs": [
        {
          "output_type": "execute_result",
          "data": {
            "text/html": [
              "<div>\n",
              "<style scoped>\n",
              "    .dataframe tbody tr th:only-of-type {\n",
              "        vertical-align: middle;\n",
              "    }\n",
              "\n",
              "    .dataframe tbody tr th {\n",
              "        vertical-align: top;\n",
              "    }\n",
              "\n",
              "    .dataframe thead th {\n",
              "        text-align: right;\n",
              "    }\n",
              "</style>\n",
              "<table border=\"1\" class=\"dataframe\">\n",
              "  <thead>\n",
              "    <tr style=\"text-align: right;\">\n",
              "      <th></th>\n",
              "      <th>SibSp</th>\n",
              "      <th>Parch</th>\n",
              "    </tr>\n",
              "    <tr>\n",
              "      <th>Survived</th>\n",
              "      <th></th>\n",
              "      <th></th>\n",
              "    </tr>\n",
              "  </thead>\n",
              "  <tbody>\n",
              "    <tr>\n",
              "      <th>0</th>\n",
              "      <td>304</td>\n",
              "      <td>181</td>\n",
              "    </tr>\n",
              "    <tr>\n",
              "      <th>1</th>\n",
              "      <td>162</td>\n",
              "      <td>159</td>\n",
              "    </tr>\n",
              "  </tbody>\n",
              "</table>\n",
              "</div>"
            ],
            "text/plain": [
              "          SibSp  Parch\n",
              "Survived              \n",
              "0           304    181\n",
              "1           162    159"
            ]
          },
          "metadata": {
            "tags": []
          },
          "execution_count": 50
        }
      ]
    },
    {
      "cell_type": "code",
      "metadata": {
        "colab": {
          "base_uri": "https://localhost:8080/"
        },
        "id": "ioWLTaGWX6QA",
        "outputId": "aeef56e3-4b2c-430a-a1e6-2fd4c48fe8d8"
      },
      "source": [
        "x=titanic.pivot_table('Survived','SibSp')*100\n",
        "y= titanic.pivot_table('Survived','Parch')*100\n",
        "\n",
        "print(x)\n",
        "print(y)"
      ],
      "execution_count": null,
      "outputs": [
        {
          "output_type": "stream",
          "text": [
            "        Survived\n",
            "SibSp           \n",
            "0      34.539474\n",
            "1      53.588517\n",
            "2      46.428571\n",
            "3      25.000000\n",
            "4      16.666667\n",
            "5       0.000000\n",
            "8       0.000000\n",
            "        Survived\n",
            "Parch           \n",
            "0      34.365782\n",
            "1      55.084746\n",
            "2      50.000000\n",
            "3      60.000000\n",
            "4       0.000000\n",
            "5      20.000000\n",
            "6       0.000000\n"
          ],
          "name": "stdout"
        }
      ]
    },
    {
      "cell_type": "code",
      "metadata": {
        "colab": {
          "base_uri": "https://localhost:8080/",
          "height": 302
        },
        "id": "hPJRq9z3dvx9",
        "outputId": "7bd9d107-01bd-4d22-f266-3bdb03e87d75"
      },
      "source": [
        "sns.barplot(\"SibSp\",\"Survived\", palette =\"Greens_d\", data=titanic)\n",
        "#Survival rate is higher for individuals with 0-2 siblings/spouses"
      ],
      "execution_count": null,
      "outputs": [
        {
          "output_type": "execute_result",
          "data": {
            "text/plain": [
              "<matplotlib.axes._subplots.AxesSubplot at 0x7ff3ec07b518>"
            ]
          },
          "metadata": {
            "tags": []
          },
          "execution_count": 61
        },
        {
          "output_type": "display_data",
          "data": {
            "image/png": "[encoded data removed]",
            "text/plain": [
              "<Figure size 432x288 with 1 Axes>"
            ]
          },
          "metadata": {
            "tags": []
          }
        }
      ]
    },
    {
      "cell_type": "code",
      "metadata": {
        "colab": {
          "base_uri": "https://localhost:8080/",
          "height": 302
        },
        "id": "8mC4MVkAcMXW",
        "outputId": "055e522d-3247-4181-fcb3-2077e8eea6f1"
      },
      "source": [
        "\n",
        "sns.barplot(\"Parch\",\"Survived\", palette =\"Greens_d\", data=titanic)\n",
        "\n",
        "#Survival rate is higher for individuals with 1-3 children\n"
      ],
      "execution_count": null,
      "outputs": [
        {
          "output_type": "execute_result",
          "data": {
            "text/plain": [
              "<matplotlib.axes._subplots.AxesSubplot at 0x7ff3ec0777b8>"
            ]
          },
          "metadata": {
            "tags": []
          },
          "execution_count": 59
        },
        {
          "output_type": "display_data",
          "data": {
            "image/png": "[encoded data removed]",
            "text/plain": [
              "<Figure size 432x288 with 1 Axes>"
            ]
          },
          "metadata": {
            "tags": []
          }
        }
      ]
    },
    {
      "cell_type": "code",
      "metadata": {
        "colab": {
          "base_uri": "https://localhost:8080/",
          "height": 302
        },
        "id": "HagkEfOVinTw",
        "outputId": "f94450e6-12ae-446c-c571-e39c2f510612"
      },
      "source": [
        "titanic['dependents']=titanic['SibSp']+titanic['Parch']\n",
        "titanic.dependents.unique()\n",
        "sns.barplot(\"dependents\",\"Survived\", palette =\"Blues_d\", data=titanic)\n",
        "\n",
        "#Survival rate is higher for individuals with 1-3 dependents (either siblings/spouse/ children)"
      ],
      "execution_count": null,
      "outputs": [
        {
          "output_type": "execute_result",
          "data": {
            "text/plain": [
              "<matplotlib.axes._subplots.AxesSubplot at 0x7fd8c51af128>"
            ]
          },
          "metadata": {
            "tags": []
          },
          "execution_count": 20
        },
        {
          "output_type": "display_data",
          "data": {
            "image/png": "[encoded data removed]",
            "text/plain": [
              "<Figure size 432x288 with 1 Axes>"
            ]
          },
          "metadata": {
            "tags": []
          }
        }
      ]
    },
    {
      "cell_type": "markdown",
      "metadata": {
        "id": "A-n_gy9ZycoV"
      },
      "source": [
        "### *** Answer 7: #Survival rate is higher for individuals with 1-3 dependents (either siblings/spouse/ children) ***"
      ]
    },
    {
      "cell_type": "markdown",
      "metadata": {
        "id": "WwOkr4k1M8co"
      },
      "source": [
        "### **Question 8: Find the correlations.**\n",
        "Find the correlations between the feature and the target variable _Survived_ and use heatmap to visualize it. Summarize your findings."
      ]
    },
    {
      "cell_type": "code",
      "metadata": {
        "id": "WyANNhL6M8co",
        "colab": {
          "base_uri": "https://localhost:8080/",
          "height": 723
        },
        "outputId": "9930fd61-b6cb-4de6-9a5e-fe1e2103db2f"
      },
      "source": [
        "# TODO\n",
        "plt.figure(figsize=(12, 6))\n",
        "corr = titanic[['Pclass', 'Sex', 'Age', 'SibSp', 'Parch', 'Ticket', 'Fare', 'Cabin', 'Embarked','Survived']].apply(lambda x: pd.factorize(x)[0]).corr()\n",
        "display(corr)\n",
        "ax = sns.heatmap(corr, xticklabels=corr.columns, yticklabels=corr.columns, linewidths=.2, cmap=\"YlGnBu\")"
      ],
      "execution_count": null,
      "outputs": [
        {
          "output_type": "display_data",
          "data": {
            "text/html": [
              "<div>\n",
              "<style scoped>\n",
              "    .dataframe tbody tr th:only-of-type {\n",
              "        vertical-align: middle;\n",
              "    }\n",
              "\n",
              "    .dataframe tbody tr th {\n",
              "        vertical-align: top;\n",
              "    }\n",
              "\n",
              "    .dataframe thead th {\n",
              "        text-align: right;\n",
              "    }\n",
              "</style>\n",
              "<table border=\"1\" class=\"dataframe\">\n",
              "  <thead>\n",
              "    <tr style=\"text-align: right;\">\n",
              "      <th></th>\n",
              "      <th>Pclass</th>\n",
              "      <th>Sex</th>\n",
              "      <th>Age</th>\n",
              "      <th>SibSp</th>\n",
              "      <th>Parch</th>\n",
              "      <th>Ticket</th>\n",
              "      <th>Fare</th>\n",
              "      <th>Cabin</th>\n",
              "      <th>Embarked</th>\n",
              "      <th>Survived</th>\n",
              "    </tr>\n",
              "  </thead>\n",
              "  <tbody>\n",
              "    <tr>\n",
              "      <th>Pclass</th>\n",
              "      <td>1.000000</td>\n",
              "      <td>0.131900</td>\n",
              "      <td>0.035446</td>\n",
              "      <td>0.015084</td>\n",
              "      <td>0.020758</td>\n",
              "      <td>0.663762</td>\n",
              "      <td>0.724119</td>\n",
              "      <td>-0.504189</td>\n",
              "      <td>0.305762</td>\n",
              "      <td>0.338481</td>\n",
              "    </tr>\n",
              "    <tr>\n",
              "      <th>Sex</th>\n",
              "      <td>0.131900</td>\n",
              "      <td>1.000000</td>\n",
              "      <td>0.058748</td>\n",
              "      <td>-0.138408</td>\n",
              "      <td>-0.243278</td>\n",
              "      <td>0.260048</td>\n",
              "      <td>0.265389</td>\n",
              "      <td>-0.051539</td>\n",
              "      <td>0.022521</td>\n",
              "      <td>0.543351</td>\n",
              "    </tr>\n",
              "    <tr>\n",
              "      <th>Age</th>\n",
              "      <td>0.035446</td>\n",
              "      <td>0.058748</td>\n",
              "      <td>1.000000</td>\n",
              "      <td>0.107813</td>\n",
              "      <td>0.082687</td>\n",
              "      <td>-0.058413</td>\n",
              "      <td>-0.011839</td>\n",
              "      <td>0.043793</td>\n",
              "      <td>-0.052320</td>\n",
              "      <td>0.011712</td>\n",
              "    </tr>\n",
              "    <tr>\n",
              "      <th>SibSp</th>\n",
              "      <td>0.015084</td>\n",
              "      <td>-0.138408</td>\n",
              "      <td>0.107813</td>\n",
              "      <td>1.000000</td>\n",
              "      <td>0.373933</td>\n",
              "      <td>-0.409374</td>\n",
              "      <td>-0.399539</td>\n",
              "      <td>-0.071513</td>\n",
              "      <td>0.000591</td>\n",
              "      <td>-0.043770</td>\n",
              "    </tr>\n",
              "    <tr>\n",
              "      <th>Parch</th>\n",
              "      <td>0.020758</td>\n",
              "      <td>-0.243278</td>\n",
              "      <td>0.082687</td>\n",
              "      <td>0.373933</td>\n",
              "      <td>1.000000</td>\n",
              "      <td>-0.349201</td>\n",
              "      <td>-0.340374</td>\n",
              "      <td>-0.054258</td>\n",
              "      <td>-0.038983</td>\n",
              "      <td>-0.091395</td>\n",
              "    </tr>\n",
              "    <tr>\n",
              "      <th>Ticket</th>\n",
              "      <td>0.663762</td>\n",
              "      <td>0.260048</td>\n",
              "      <td>-0.058413</td>\n",
              "      <td>-0.409374</td>\n",
              "      <td>-0.349201</td>\n",
              "      <td>1.000000</td>\n",
              "      <td>0.963018</td>\n",
              "      <td>-0.276554</td>\n",
              "      <td>0.267477</td>\n",
              "      <td>0.314038</td>\n",
              "    </tr>\n",
              "    <tr>\n",
              "      <th>Fare</th>\n",
              "      <td>0.724119</td>\n",
              "      <td>0.265389</td>\n",
              "      <td>-0.011839</td>\n",
              "      <td>-0.399539</td>\n",
              "      <td>-0.340374</td>\n",
              "      <td>0.963018</td>\n",
              "      <td>1.000000</td>\n",
              "      <td>-0.277309</td>\n",
              "      <td>0.289874</td>\n",
              "      <td>0.333943</td>\n",
              "    </tr>\n",
              "    <tr>\n",
              "      <th>Cabin</th>\n",
              "      <td>-0.504189</td>\n",
              "      <td>-0.051539</td>\n",
              "      <td>0.043793</td>\n",
              "      <td>-0.071513</td>\n",
              "      <td>-0.054258</td>\n",
              "      <td>-0.276554</td>\n",
              "      <td>-0.277309</td>\n",
              "      <td>1.000000</td>\n",
              "      <td>-0.116155</td>\n",
              "      <td>-0.218067</td>\n",
              "    </tr>\n",
              "    <tr>\n",
              "      <th>Embarked</th>\n",
              "      <td>0.305762</td>\n",
              "      <td>0.022521</td>\n",
              "      <td>-0.052320</td>\n",
              "      <td>0.000591</td>\n",
              "      <td>-0.038983</td>\n",
              "      <td>0.267477</td>\n",
              "      <td>0.289874</td>\n",
              "      <td>-0.116155</td>\n",
              "      <td>1.000000</td>\n",
              "      <td>0.125953</td>\n",
              "    </tr>\n",
              "    <tr>\n",
              "      <th>Survived</th>\n",
              "      <td>0.338481</td>\n",
              "      <td>0.543351</td>\n",
              "      <td>0.011712</td>\n",
              "      <td>-0.043770</td>\n",
              "      <td>-0.091395</td>\n",
              "      <td>0.314038</td>\n",
              "      <td>0.333943</td>\n",
              "      <td>-0.218067</td>\n",
              "      <td>0.125953</td>\n",
              "      <td>1.000000</td>\n",
              "    </tr>\n",
              "  </tbody>\n",
              "</table>\n",
              "</div>"
            ],
            "text/plain": [
              "            Pclass       Sex       Age  ...     Cabin  Embarked  Survived\n",
              "Pclass    1.000000  0.131900  0.035446  ... -0.504189  0.305762  0.338481\n",
              "Sex       0.131900  1.000000  0.058748  ... -0.051539  0.022521  0.543351\n",
              "Age       0.035446  0.058748  1.000000  ...  0.043793 -0.052320  0.011712\n",
              "SibSp     0.015084 -0.138408  0.107813  ... -0.071513  0.000591 -0.043770\n",
              "Parch     0.020758 -0.243278  0.082687  ... -0.054258 -0.038983 -0.091395\n",
              "Ticket    0.663762  0.260048 -0.058413  ... -0.276554  0.267477  0.314038\n",
              "Fare      0.724119  0.265389 -0.011839  ... -0.277309  0.289874  0.333943\n",
              "Cabin    -0.504189 -0.051539  0.043793  ...  1.000000 -0.116155 -0.218067\n",
              "Embarked  0.305762  0.022521 -0.052320  ... -0.116155  1.000000  0.125953\n",
              "Survived  0.338481  0.543351  0.011712  ... -0.218067  0.125953  1.000000\n",
              "\n",
              "[10 rows x 10 columns]"
            ]
          },
          "metadata": {
            "tags": []
          }
        },
        {
          "output_type": "display_data",
          "data": {
            "image/png": "[encoded data removed]",
            "text/plain": [
              "<Figure size 864x432 with 2 Axes>"
            ]
          },
          "metadata": {
            "tags": [],
            "needs_background": "light"
          }
        }
      ]
    },
    {
      "cell_type": "code",
      "metadata": {
        "colab": {
          "base_uri": "https://localhost:8080/"
        },
        "id": "-m9BLQF2hGKC",
        "outputId": "2ffef93b-0376-4478-e8c5-45d931470ffa"
      },
      "source": [
        "titanic.columns"
      ],
      "execution_count": null,
      "outputs": [
        {
          "output_type": "execute_result",
          "data": {
            "text/plain": [
              "Index(['PassengerId', 'Survived', 'Pclass', 'Name', 'Sex', 'Age', 'SibSp',\n",
              "       'Parch', 'Ticket', 'Fare', 'Cabin', 'Embarked'],\n",
              "      dtype='object')"
            ]
          },
          "metadata": {
            "tags": []
          },
          "execution_count": 344
        }
      ]
    },
    {
      "cell_type": "markdown",
      "metadata": {
        "id": "VPA-huNqM8cr"
      },
      "source": [
        "### **Question 9: Any other insights do you draw by analyzing the data? Summarize the findings as well as provide the code leading you to the findings.**"
      ]
    },
    {
      "cell_type": "code",
      "metadata": {
        "id": "RbUR4eVqM8cr",
        "colab": {
          "base_uri": "https://localhost:8080/",
          "height": 268
        },
        "outputId": "15316fc7-aaff-468d-ca77-d4bc241a584e"
      },
      "source": [
        "# TODO\n",
        "\n",
        "ax0= plt.hist(titanic.loc[titanic['Survived']==1]['Embarked'], density=True, color='g', alpha=0.6, )\n",
        "ax1= plt.hist(titanic.loc[titanic['Survived']==0]['Embarked'], density= True, color='r',alpha=0.6)\n"
      ],
      "execution_count": null,
      "outputs": [
        {
          "output_type": "display_data",
          "data": {
            "image/png": "[encoded data removed]",
            "text/plain": [
              "<Figure size 432x288 with 1 Axes>"
            ]
          },
          "metadata": {
            "tags": []
          }
        }
      ]
    },
    {
      "cell_type": "code",
      "metadata": {
        "id": "6qaODSdHz9Bd"
      },
      "source": [
        "z=pd.DataFrame(titanic.pivot_table('Survived','Embarked'))"
      ],
      "execution_count": null,
      "outputs": []
    },
    {
      "cell_type": "code",
      "metadata": {
        "colab": {
          "base_uri": "https://localhost:8080/"
        },
        "id": "MDFA8sD98ZGm",
        "outputId": "2c3578b0-37fb-4b8b-a7b8-6f02e2b79654"
      },
      "source": [
        "feature=['Pclass','Sex']\n",
        "for element in feature:\n",
        "  m1=pd.DataFrame(titanic.groupby(['Embarked',\"\"+element], as_index=True).agg({'Survived':np.ma.count}))\n",
        "  print(m1)\n"
      ],
      "execution_count": null,
      "outputs": [
        {
          "output_type": "stream",
          "text": [
            "                 Survived\n",
            "Embarked Pclass          \n",
            "C        1             85\n",
            "         2             17\n",
            "         3             66\n",
            "Q        1              2\n",
            "         2              3\n",
            "         3             72\n",
            "S        1            129\n",
            "         2            164\n",
            "         3            353\n",
            "                 Survived\n",
            "Embarked Sex             \n",
            "C        female        73\n",
            "         male          95\n",
            "Q        female        36\n",
            "         male          41\n",
            "S        female       205\n",
            "         male         441\n"
          ],
          "name": "stdout"
        }
      ]
    },
    {
      "cell_type": "code",
      "metadata": {
        "colab": {
          "base_uri": "https://localhost:8080/"
        },
        "id": "gaTLxLcN9_-L",
        "outputId": "97499429-f375-45aa-daab-61d76272b5cc"
      },
      "source": [
        "feature=['Pclass','Sex']\n",
        "for element in feature:\n",
        "  m1=pd.DataFrame(titanic.groupby(['Embarked',\"\"+element], as_index=True).agg({'Survived':np.ma.count}))\n",
        "  sre=m1.groupby(level=0).apply(lambda x: 100*x/float(x.sum()))\n",
        "  print(sre)"
      ],
      "execution_count": null,
      "outputs": [
        {
          "output_type": "stream",
          "text": [
            "                  Survived\n",
            "Embarked Pclass           \n",
            "C        1       50.595238\n",
            "         2       10.119048\n",
            "         3       39.285714\n",
            "Q        1        2.597403\n",
            "         2        3.896104\n",
            "         3       93.506494\n",
            "S        1       19.969040\n",
            "         2       25.386997\n",
            "         3       54.643963\n",
            "                  Survived\n",
            "Embarked Sex              \n",
            "C        female  43.452381\n",
            "         male    56.547619\n",
            "Q        female  46.753247\n",
            "         male    53.246753\n",
            "S        female  31.733746\n",
            "         male    68.266254\n"
          ],
          "name": "stdout"
        }
      ]
    },
    {
      "cell_type": "markdown",
      "metadata": {
        "id": "zBR-yzEOyw0w"
      },
      "source": [
        "### *** Answer 9: It is observed that a person embarked at C has higher survival rate and those embarked at S has lower survival rate. Reasons could be: Twice the number of male has been embarked from S (100% higher than female) and 54% of those from S have booked 3rd class ticket and 68% of those from S are male and hence lower survival rate. C has higher survival rate as 50% of them had booked 1st class. Also 43% of those who came from C are female. ***"
      ]
    },
    {
      "cell_type": "markdown",
      "metadata": {
        "id": "WN7aJgCAM8ct"
      },
      "source": [
        "### **Bonus Point: Build a ML model to predict survival.**\n",
        "Can you build a logistic regression model to predict the probability of survival for all the passengers in this [file](https://raw.githubusercontent.com/zariable/data/master/titanic_test.csv)? You can evaluate your model accuracy on [Kaggle](https://www.kaggle.com/c/titanic). Can you think of any other ways to improve the model performance? Implement your idea to see if it actually works. "
      ]
    },
    {
      "cell_type": "code",
      "metadata": {
        "id": "dJ7Cdt2PM8cu",
        "colab": {
          "base_uri": "https://localhost:8080/",
          "height": 254
        },
        "outputId": "22bd5c79-b60c-42a5-815d-e21e8b591aa5"
      },
      "source": [
        "# TODO\n",
        "titanic.head()\n",
        "\n"
      ],
      "execution_count": null,
      "outputs": [
        {
          "output_type": "execute_result",
          "data": {
            "text/html": [
              "<div>\n",
              "<style scoped>\n",
              "    .dataframe tbody tr th:only-of-type {\n",
              "        vertical-align: middle;\n",
              "    }\n",
              "\n",
              "    .dataframe tbody tr th {\n",
              "        vertical-align: top;\n",
              "    }\n",
              "\n",
              "    .dataframe thead th {\n",
              "        text-align: right;\n",
              "    }\n",
              "</style>\n",
              "<table border=\"1\" class=\"dataframe\">\n",
              "  <thead>\n",
              "    <tr style=\"text-align: right;\">\n",
              "      <th></th>\n",
              "      <th>PassengerId</th>\n",
              "      <th>Survived</th>\n",
              "      <th>Pclass</th>\n",
              "      <th>Name</th>\n",
              "      <th>Sex</th>\n",
              "      <th>Age</th>\n",
              "      <th>SibSp</th>\n",
              "      <th>Parch</th>\n",
              "      <th>Ticket</th>\n",
              "      <th>Fare</th>\n",
              "      <th>Cabin</th>\n",
              "      <th>Embarked</th>\n",
              "      <th>dependents</th>\n",
              "    </tr>\n",
              "  </thead>\n",
              "  <tbody>\n",
              "    <tr>\n",
              "      <th>0</th>\n",
              "      <td>1</td>\n",
              "      <td>0</td>\n",
              "      <td>3</td>\n",
              "      <td>Braund, Mr. Owen Harris</td>\n",
              "      <td>male</td>\n",
              "      <td>22.0</td>\n",
              "      <td>1</td>\n",
              "      <td>0</td>\n",
              "      <td>A/5 21171</td>\n",
              "      <td>7.2500</td>\n",
              "      <td>Other</td>\n",
              "      <td>S</td>\n",
              "      <td>1</td>\n",
              "    </tr>\n",
              "    <tr>\n",
              "      <th>1</th>\n",
              "      <td>2</td>\n",
              "      <td>1</td>\n",
              "      <td>1</td>\n",
              "      <td>Cumings, Mrs. John Bradley (Florence Briggs Th...</td>\n",
              "      <td>female</td>\n",
              "      <td>38.0</td>\n",
              "      <td>1</td>\n",
              "      <td>0</td>\n",
              "      <td>PC 17599</td>\n",
              "      <td>71.2833</td>\n",
              "      <td>C85</td>\n",
              "      <td>C</td>\n",
              "      <td>1</td>\n",
              "    </tr>\n",
              "    <tr>\n",
              "      <th>2</th>\n",
              "      <td>3</td>\n",
              "      <td>1</td>\n",
              "      <td>3</td>\n",
              "      <td>Heikkinen, Miss. Laina</td>\n",
              "      <td>female</td>\n",
              "      <td>26.0</td>\n",
              "      <td>0</td>\n",
              "      <td>0</td>\n",
              "      <td>STON/O2. 3101282</td>\n",
              "      <td>7.9250</td>\n",
              "      <td>Other</td>\n",
              "      <td>S</td>\n",
              "      <td>0</td>\n",
              "    </tr>\n",
              "    <tr>\n",
              "      <th>3</th>\n",
              "      <td>4</td>\n",
              "      <td>1</td>\n",
              "      <td>1</td>\n",
              "      <td>Futrelle, Mrs. Jacques Heath (Lily May Peel)</td>\n",
              "      <td>female</td>\n",
              "      <td>35.0</td>\n",
              "      <td>1</td>\n",
              "      <td>0</td>\n",
              "      <td>113803</td>\n",
              "      <td>53.1000</td>\n",
              "      <td>C123</td>\n",
              "      <td>S</td>\n",
              "      <td>1</td>\n",
              "    </tr>\n",
              "    <tr>\n",
              "      <th>4</th>\n",
              "      <td>5</td>\n",
              "      <td>0</td>\n",
              "      <td>3</td>\n",
              "      <td>Allen, Mr. William Henry</td>\n",
              "      <td>male</td>\n",
              "      <td>35.0</td>\n",
              "      <td>0</td>\n",
              "      <td>0</td>\n",
              "      <td>373450</td>\n",
              "      <td>8.0500</td>\n",
              "      <td>Other</td>\n",
              "      <td>S</td>\n",
              "      <td>0</td>\n",
              "    </tr>\n",
              "  </tbody>\n",
              "</table>\n",
              "</div>"
            ],
            "text/plain": [
              "   PassengerId  Survived  Pclass  ...  Cabin Embarked  dependents\n",
              "0            1         0       3  ...  Other        S           1\n",
              "1            2         1       1  ...    C85        C           1\n",
              "2            3         1       3  ...  Other        S           0\n",
              "3            4         1       1  ...   C123        S           1\n",
              "4            5         0       3  ...  Other        S           0\n",
              "\n",
              "[5 rows x 13 columns]"
            ]
          },
          "metadata": {
            "tags": []
          },
          "execution_count": 37
        }
      ]
    },
    {
      "cell_type": "code",
      "metadata": {
        "id": "KgAnD43Dt8HE"
      },
      "source": [
        ""
      ],
      "execution_count": null,
      "outputs": []
    },
    {
      "cell_type": "code",
      "metadata": {
        "id": "rI0qkHkfzgB3",
        "colab": {
          "base_uri": "https://localhost:8080/"
        },
        "outputId": "1ad51a2d-3148-4d72-cf83-f8c62ba72295"
      },
      "source": [
        "titml= pd.DataFrame(titanic, columns=[ 'Survived', 'Pclass', 'Sex', 'Age', 'dependents',\n",
        "       'Fare', 'Embarked'])\n",
        "titml.isna().sum()"
      ],
      "execution_count": null,
      "outputs": [
        {
          "output_type": "execute_result",
          "data": {
            "text/plain": [
              "Survived      0\n",
              "Pclass        0\n",
              "Sex           0\n",
              "Age           0\n",
              "dependents    0\n",
              "Fare          0\n",
              "Embarked      0\n",
              "dtype: int64"
            ]
          },
          "metadata": {
            "tags": []
          },
          "execution_count": 38
        }
      ]
    },
    {
      "cell_type": "code",
      "metadata": {
        "colab": {
          "base_uri": "https://localhost:8080/"
        },
        "id": "FyuIzfjE4YqL",
        "outputId": "149872bf-5a09-4c8f-c9ca-5e4dc2e3e309"
      },
      "source": [
        "titml.nunique()"
      ],
      "execution_count": null,
      "outputs": [
        {
          "output_type": "execute_result",
          "data": {
            "text/plain": [
              "Survived        2\n",
              "Pclass          3\n",
              "Sex             2\n",
              "Age            89\n",
              "dependents      9\n",
              "Fare          248\n",
              "Embarked        3\n",
              "dtype: int64"
            ]
          },
          "metadata": {
            "tags": []
          },
          "execution_count": 39
        }
      ]
    },
    {
      "cell_type": "code",
      "metadata": {
        "id": "572xxrHi70xo",
        "colab": {
          "base_uri": "https://localhost:8080/"
        },
        "outputId": "42d1b9d4-9ccd-470e-8f56-9114c044da16"
      },
      "source": [
        "titml.dtypes"
      ],
      "execution_count": null,
      "outputs": [
        {
          "output_type": "execute_result",
          "data": {
            "text/plain": [
              "Survived        int64\n",
              "Pclass          int64\n",
              "Sex            object\n",
              "Age           float64\n",
              "dependents      int64\n",
              "Fare          float64\n",
              "Embarked       object\n",
              "dtype: object"
            ]
          },
          "metadata": {
            "tags": []
          },
          "execution_count": 40
        }
      ]
    },
    {
      "cell_type": "code",
      "metadata": {
        "id": "wPuzp6CypPBD"
      },
      "source": [
        "titml1=pd.get_dummies(titml,columns=['Sex','Embarked','Pclass'])"
      ],
      "execution_count": null,
      "outputs": []
    },
    {
      "cell_type": "code",
      "metadata": {
        "colab": {
          "base_uri": "https://localhost:8080/",
          "height": 204
        },
        "id": "UFoy5yxyuTRy",
        "outputId": "5828fa13-e798-41af-f152-f4c167cd247e"
      },
      "source": [
        "titml1.head()\n"
      ],
      "execution_count": null,
      "outputs": [
        {
          "output_type": "execute_result",
          "data": {
            "text/html": [
              "<div>\n",
              "<style scoped>\n",
              "    .dataframe tbody tr th:only-of-type {\n",
              "        vertical-align: middle;\n",
              "    }\n",
              "\n",
              "    .dataframe tbody tr th {\n",
              "        vertical-align: top;\n",
              "    }\n",
              "\n",
              "    .dataframe thead th {\n",
              "        text-align: right;\n",
              "    }\n",
              "</style>\n",
              "<table border=\"1\" class=\"dataframe\">\n",
              "  <thead>\n",
              "    <tr style=\"text-align: right;\">\n",
              "      <th></th>\n",
              "      <th>Survived</th>\n",
              "      <th>Age</th>\n",
              "      <th>dependents</th>\n",
              "      <th>Fare</th>\n",
              "      <th>Sex_female</th>\n",
              "      <th>Sex_male</th>\n",
              "      <th>Embarked_C</th>\n",
              "      <th>Embarked_Q</th>\n",
              "      <th>Embarked_S</th>\n",
              "      <th>Pclass_1</th>\n",
              "      <th>Pclass_2</th>\n",
              "      <th>Pclass_3</th>\n",
              "    </tr>\n",
              "  </thead>\n",
              "  <tbody>\n",
              "    <tr>\n",
              "      <th>0</th>\n",
              "      <td>0</td>\n",
              "      <td>22.0</td>\n",
              "      <td>1</td>\n",
              "      <td>7.2500</td>\n",
              "      <td>0</td>\n",
              "      <td>1</td>\n",
              "      <td>0</td>\n",
              "      <td>0</td>\n",
              "      <td>1</td>\n",
              "      <td>0</td>\n",
              "      <td>0</td>\n",
              "      <td>1</td>\n",
              "    </tr>\n",
              "    <tr>\n",
              "      <th>1</th>\n",
              "      <td>1</td>\n",
              "      <td>38.0</td>\n",
              "      <td>1</td>\n",
              "      <td>71.2833</td>\n",
              "      <td>1</td>\n",
              "      <td>0</td>\n",
              "      <td>1</td>\n",
              "      <td>0</td>\n",
              "      <td>0</td>\n",
              "      <td>1</td>\n",
              "      <td>0</td>\n",
              "      <td>0</td>\n",
              "    </tr>\n",
              "    <tr>\n",
              "      <th>2</th>\n",
              "      <td>1</td>\n",
              "      <td>26.0</td>\n",
              "      <td>0</td>\n",
              "      <td>7.9250</td>\n",
              "      <td>1</td>\n",
              "      <td>0</td>\n",
              "      <td>0</td>\n",
              "      <td>0</td>\n",
              "      <td>1</td>\n",
              "      <td>0</td>\n",
              "      <td>0</td>\n",
              "      <td>1</td>\n",
              "    </tr>\n",
              "    <tr>\n",
              "      <th>3</th>\n",
              "      <td>1</td>\n",
              "      <td>35.0</td>\n",
              "      <td>1</td>\n",
              "      <td>53.1000</td>\n",
              "      <td>1</td>\n",
              "      <td>0</td>\n",
              "      <td>0</td>\n",
              "      <td>0</td>\n",
              "      <td>1</td>\n",
              "      <td>1</td>\n",
              "      <td>0</td>\n",
              "      <td>0</td>\n",
              "    </tr>\n",
              "    <tr>\n",
              "      <th>4</th>\n",
              "      <td>0</td>\n",
              "      <td>35.0</td>\n",
              "      <td>0</td>\n",
              "      <td>8.0500</td>\n",
              "      <td>0</td>\n",
              "      <td>1</td>\n",
              "      <td>0</td>\n",
              "      <td>0</td>\n",
              "      <td>1</td>\n",
              "      <td>0</td>\n",
              "      <td>0</td>\n",
              "      <td>1</td>\n",
              "    </tr>\n",
              "  </tbody>\n",
              "</table>\n",
              "</div>"
            ],
            "text/plain": [
              "   Survived   Age  dependents  ...  Pclass_1  Pclass_2  Pclass_3\n",
              "0         0  22.0           1  ...         0         0         1\n",
              "1         1  38.0           1  ...         1         0         0\n",
              "2         1  26.0           0  ...         0         0         1\n",
              "3         1  35.0           1  ...         1         0         0\n",
              "4         0  35.0           0  ...         0         0         1\n",
              "\n",
              "[5 rows x 12 columns]"
            ]
          },
          "metadata": {
            "tags": []
          },
          "execution_count": 42
        }
      ]
    },
    {
      "cell_type": "code",
      "metadata": {
        "id": "C9HYb2QdpiZV"
      },
      "source": [
        "index=['Age', 'dependents', 'Fare', 'Sex_female',\n",
        "       'Sex_male', 'Embarked_C', 'Embarked_Q', 'Embarked_S','Pclass_1','Pclass_2','Pclass_3']\n",
        "titmlx= titml1.loc[:, index]\n",
        "titmly=titml1.loc[:,['Survived']]"
      ],
      "execution_count": null,
      "outputs": []
    },
    {
      "cell_type": "code",
      "metadata": {
        "colab": {
          "base_uri": "https://localhost:8080/",
          "height": 203
        },
        "id": "tTUKupsMu5s-",
        "outputId": "8f7d4505-8947-4dcd-d70e-911402e29701"
      },
      "source": [
        "titmlx.head()"
      ],
      "execution_count": null,
      "outputs": [
        {
          "output_type": "execute_result",
          "data": {
            "text/html": [
              "<div>\n",
              "<style scoped>\n",
              "    .dataframe tbody tr th:only-of-type {\n",
              "        vertical-align: middle;\n",
              "    }\n",
              "\n",
              "    .dataframe tbody tr th {\n",
              "        vertical-align: top;\n",
              "    }\n",
              "\n",
              "    .dataframe thead th {\n",
              "        text-align: right;\n",
              "    }\n",
              "</style>\n",
              "<table border=\"1\" class=\"dataframe\">\n",
              "  <thead>\n",
              "    <tr style=\"text-align: right;\">\n",
              "      <th></th>\n",
              "      <th>Age</th>\n",
              "      <th>dependents</th>\n",
              "      <th>Fare</th>\n",
              "      <th>Sex_female</th>\n",
              "      <th>Sex_male</th>\n",
              "      <th>Embarked_C</th>\n",
              "      <th>Embarked_Q</th>\n",
              "      <th>Embarked_S</th>\n",
              "      <th>Pclass_1</th>\n",
              "      <th>Pclass_2</th>\n",
              "      <th>Pclass_3</th>\n",
              "    </tr>\n",
              "  </thead>\n",
              "  <tbody>\n",
              "    <tr>\n",
              "      <th>0</th>\n",
              "      <td>22.0</td>\n",
              "      <td>1</td>\n",
              "      <td>7.2500</td>\n",
              "      <td>0</td>\n",
              "      <td>1</td>\n",
              "      <td>0</td>\n",
              "      <td>0</td>\n",
              "      <td>1</td>\n",
              "      <td>0</td>\n",
              "      <td>0</td>\n",
              "      <td>1</td>\n",
              "    </tr>\n",
              "    <tr>\n",
              "      <th>1</th>\n",
              "      <td>38.0</td>\n",
              "      <td>1</td>\n",
              "      <td>71.2833</td>\n",
              "      <td>1</td>\n",
              "      <td>0</td>\n",
              "      <td>1</td>\n",
              "      <td>0</td>\n",
              "      <td>0</td>\n",
              "      <td>1</td>\n",
              "      <td>0</td>\n",
              "      <td>0</td>\n",
              "    </tr>\n",
              "    <tr>\n",
              "      <th>2</th>\n",
              "      <td>26.0</td>\n",
              "      <td>0</td>\n",
              "      <td>7.9250</td>\n",
              "      <td>1</td>\n",
              "      <td>0</td>\n",
              "      <td>0</td>\n",
              "      <td>0</td>\n",
              "      <td>1</td>\n",
              "      <td>0</td>\n",
              "      <td>0</td>\n",
              "      <td>1</td>\n",
              "    </tr>\n",
              "    <tr>\n",
              "      <th>3</th>\n",
              "      <td>35.0</td>\n",
              "      <td>1</td>\n",
              "      <td>53.1000</td>\n",
              "      <td>1</td>\n",
              "      <td>0</td>\n",
              "      <td>0</td>\n",
              "      <td>0</td>\n",
              "      <td>1</td>\n",
              "      <td>1</td>\n",
              "      <td>0</td>\n",
              "      <td>0</td>\n",
              "    </tr>\n",
              "    <tr>\n",
              "      <th>4</th>\n",
              "      <td>35.0</td>\n",
              "      <td>0</td>\n",
              "      <td>8.0500</td>\n",
              "      <td>0</td>\n",
              "      <td>1</td>\n",
              "      <td>0</td>\n",
              "      <td>0</td>\n",
              "      <td>1</td>\n",
              "      <td>0</td>\n",
              "      <td>0</td>\n",
              "      <td>1</td>\n",
              "    </tr>\n",
              "  </tbody>\n",
              "</table>\n",
              "</div>"
            ],
            "text/plain": [
              "    Age  dependents     Fare  ...  Pclass_1  Pclass_2  Pclass_3\n",
              "0  22.0           1   7.2500  ...         0         0         1\n",
              "1  38.0           1  71.2833  ...         1         0         0\n",
              "2  26.0           0   7.9250  ...         0         0         1\n",
              "3  35.0           1  53.1000  ...         1         0         0\n",
              "4  35.0           0   8.0500  ...         0         0         1\n",
              "\n",
              "[5 rows x 11 columns]"
            ]
          },
          "metadata": {
            "tags": []
          },
          "execution_count": 44
        }
      ]
    },
    {
      "cell_type": "code",
      "metadata": {
        "id": "G7S4_H_5sks9"
      },
      "source": [
        "from sklearn.linear_model import LogisticRegression\n",
        "from sklearn.metrics import classification_report, confusion_matrix"
      ],
      "execution_count": null,
      "outputs": []
    },
    {
      "cell_type": "code",
      "metadata": {
        "id": "0745_wgctNIF"
      },
      "source": [
        "model = LogisticRegression(solver='liblinear', random_state=0)"
      ],
      "execution_count": null,
      "outputs": []
    },
    {
      "cell_type": "code",
      "metadata": {
        "id": "ocmTlxDBtpyQ"
      },
      "source": [
        "from sklearn.model_selection import train_test_split\n",
        "x_train, x_valid, y_train, y_valid= \\\n",
        "train_test_split(titmlx,titmly, test_size=0.2, random_state=42)"
      ],
      "execution_count": null,
      "outputs": []
    },
    {
      "cell_type": "code",
      "metadata": {
        "colab": {
          "base_uri": "https://localhost:8080/"
        },
        "id": "srx5CkEXtQ1H",
        "outputId": "578e6dcb-0583-4595-90c5-654c3c1efede"
      },
      "source": [
        "model.fit(x_train,y_train)"
      ],
      "execution_count": null,
      "outputs": [
        {
          "output_type": "stream",
          "text": [
            "/usr/local/lib/python3.6/dist-packages/sklearn/utils/validation.py:760: DataConversionWarning: A column-vector y was passed when a 1d array was expected. Please change the shape of y to (n_samples, ), for example using ravel().\n",
            "  y = column_or_1d(y, warn=True)\n"
          ],
          "name": "stderr"
        },
        {
          "output_type": "execute_result",
          "data": {
            "text/plain": [
              "LogisticRegression(C=1.0, class_weight=None, dual=False, fit_intercept=True,\n",
              "                   intercept_scaling=1, l1_ratio=None, max_iter=100,\n",
              "                   multi_class='auto', n_jobs=None, penalty='l2',\n",
              "                   random_state=0, solver='liblinear', tol=0.0001, verbose=0,\n",
              "                   warm_start=False)"
            ]
          },
          "metadata": {
            "tags": []
          },
          "execution_count": 48
        }
      ]
    },
    {
      "cell_type": "code",
      "metadata": {
        "colab": {
          "base_uri": "https://localhost:8080/"
        },
        "id": "I9PSIWR7tVrH",
        "outputId": "06f7d195-12dc-4f00-830d-052f3d73aaff"
      },
      "source": [
        "model.classes_"
      ],
      "execution_count": null,
      "outputs": [
        {
          "output_type": "execute_result",
          "data": {
            "text/plain": [
              "array([0, 1])"
            ]
          },
          "metadata": {
            "tags": []
          },
          "execution_count": 49
        }
      ]
    },
    {
      "cell_type": "code",
      "metadata": {
        "colab": {
          "base_uri": "https://localhost:8080/"
        },
        "id": "Asf9a7KwtdAz",
        "outputId": "d5b9f5ee-7527-41cb-e6cd-71f7dedb2cc0"
      },
      "source": [
        "model.intercept_"
      ],
      "execution_count": null,
      "outputs": [
        {
          "output_type": "execute_result",
          "data": {
            "text/plain": [
              "array([0.52150417])"
            ]
          },
          "metadata": {
            "tags": []
          },
          "execution_count": 50
        }
      ]
    },
    {
      "cell_type": "code",
      "metadata": {
        "colab": {
          "base_uri": "https://localhost:8080/"
        },
        "id": "r4A9WEvutgSH",
        "outputId": "a96f09a3-1928-4dfc-b05c-f74021f3a815"
      },
      "source": [
        "model.coef_"
      ],
      "execution_count": null,
      "outputs": [
        {
          "output_type": "execute_result",
          "data": {
            "text/plain": [
              "array([[-0.02832979, -0.22477836,  0.00395562,  1.58676484, -1.06526067,\n",
              "         0.39734606,  0.2096638 , -0.08550569,  0.88838166,  0.42194401,\n",
              "        -0.78882149]])"
            ]
          },
          "metadata": {
            "tags": []
          },
          "execution_count": 51
        }
      ]
    },
    {
      "cell_type": "code",
      "metadata": {
        "id": "gRbCSftWtiHs"
      },
      "source": [
        "y_pred=model.predict(x_valid)"
      ],
      "execution_count": null,
      "outputs": []
    },
    {
      "cell_type": "code",
      "metadata": {
        "colab": {
          "base_uri": "https://localhost:8080/"
        },
        "id": "pvYBBeBXuD0l",
        "outputId": "51d104b0-dc70-4f1c-bbff-32553f3244bf"
      },
      "source": [
        "model.score(titmlx,titmly)"
      ],
      "execution_count": null,
      "outputs": [
        {
          "output_type": "execute_result",
          "data": {
            "text/plain": [
              "0.8047138047138047"
            ]
          },
          "metadata": {
            "tags": []
          },
          "execution_count": 53
        }
      ]
    },
    {
      "cell_type": "code",
      "metadata": {
        "colab": {
          "base_uri": "https://localhost:8080/"
        },
        "id": "lUWsg3aDuMC8",
        "outputId": "ece8c7cb-1585-4a48-85fa-e63396244780"
      },
      "source": [
        "confusion_matrix(y_valid, y_pred)"
      ],
      "execution_count": null,
      "outputs": [
        {
          "output_type": "execute_result",
          "data": {
            "text/plain": [
              "array([[90, 15],\n",
              "       [21, 53]])"
            ]
          },
          "metadata": {
            "tags": []
          },
          "execution_count": 54
        }
      ]
    },
    {
      "cell_type": "code",
      "metadata": {
        "colab": {
          "base_uri": "https://localhost:8080/",
          "height": 69
        },
        "id": "bvnHp60juV7g",
        "outputId": "a6ada05e-5c7e-49a0-8812-7bb548e56072"
      },
      "source": [
        "classification_report(y_valid, model.predict(x_valid))"
      ],
      "execution_count": null,
      "outputs": [
        {
          "output_type": "execute_result",
          "data": {
            "application/vnd.google.colaboratory.intrinsic+json": {
              "type": "string"
            },
            "text/plain": [
              "'              precision    recall  f1-score   support\\n\\n           0       0.81      0.86      0.83       105\\n           1       0.78      0.72      0.75        74\\n\\n    accuracy                           0.80       179\\n   macro avg       0.80      0.79      0.79       179\\nweighted avg       0.80      0.80      0.80       179\\n'"
            ]
          },
          "metadata": {
            "tags": []
          },
          "execution_count": 55
        }
      ]
    },
    {
      "cell_type": "code",
      "metadata": {
        "colab": {
          "base_uri": "https://localhost:8080/"
        },
        "id": "cRFepfqYukNP",
        "outputId": "6e1722f6-5655-4082-930e-a55e4239f5b6"
      },
      "source": [
        "from sklearn.metrics import accuracy_score\n",
        "accuracy_score(y_pred,y_valid)*100"
      ],
      "execution_count": null,
      "outputs": [
        {
          "output_type": "execute_result",
          "data": {
            "text/plain": [
              "79.88826815642457"
            ]
          },
          "metadata": {
            "tags": []
          },
          "execution_count": 56
        }
      ]
    },
    {
      "cell_type": "code",
      "metadata": {
        "id": "nzclQUwtV5ft"
      },
      "source": [
        "predict= pd.read_csv('https://raw.githubusercontent.com/jessiececilya/ML-Data/main/titanic/test.csv')"
      ],
      "execution_count": null,
      "outputs": []
    },
    {
      "cell_type": "code",
      "metadata": {
        "colab": {
          "base_uri": "https://localhost:8080/",
          "height": 203
        },
        "id": "rsoHimjCjwgL",
        "outputId": "df217ea9-4bac-43aa-8863-0d12e5666442"
      },
      "source": [
        "predict.head()"
      ],
      "execution_count": null,
      "outputs": [
        {
          "output_type": "execute_result",
          "data": {
            "text/html": [
              "<div>\n",
              "<style scoped>\n",
              "    .dataframe tbody tr th:only-of-type {\n",
              "        vertical-align: middle;\n",
              "    }\n",
              "\n",
              "    .dataframe tbody tr th {\n",
              "        vertical-align: top;\n",
              "    }\n",
              "\n",
              "    .dataframe thead th {\n",
              "        text-align: right;\n",
              "    }\n",
              "</style>\n",
              "<table border=\"1\" class=\"dataframe\">\n",
              "  <thead>\n",
              "    <tr style=\"text-align: right;\">\n",
              "      <th></th>\n",
              "      <th>PassengerId</th>\n",
              "      <th>Pclass</th>\n",
              "      <th>Name</th>\n",
              "      <th>Sex</th>\n",
              "      <th>Age</th>\n",
              "      <th>SibSp</th>\n",
              "      <th>Parch</th>\n",
              "      <th>Ticket</th>\n",
              "      <th>Fare</th>\n",
              "      <th>Cabin</th>\n",
              "      <th>Embarked</th>\n",
              "    </tr>\n",
              "  </thead>\n",
              "  <tbody>\n",
              "    <tr>\n",
              "      <th>0</th>\n",
              "      <td>892</td>\n",
              "      <td>3</td>\n",
              "      <td>Kelly, Mr. James</td>\n",
              "      <td>male</td>\n",
              "      <td>34.5</td>\n",
              "      <td>0</td>\n",
              "      <td>0</td>\n",
              "      <td>330911</td>\n",
              "      <td>7.8292</td>\n",
              "      <td>NaN</td>\n",
              "      <td>Q</td>\n",
              "    </tr>\n",
              "    <tr>\n",
              "      <th>1</th>\n",
              "      <td>893</td>\n",
              "      <td>3</td>\n",
              "      <td>Wilkes, Mrs. James (Ellen Needs)</td>\n",
              "      <td>female</td>\n",
              "      <td>47.0</td>\n",
              "      <td>1</td>\n",
              "      <td>0</td>\n",
              "      <td>363272</td>\n",
              "      <td>7.0000</td>\n",
              "      <td>NaN</td>\n",
              "      <td>S</td>\n",
              "    </tr>\n",
              "    <tr>\n",
              "      <th>2</th>\n",
              "      <td>894</td>\n",
              "      <td>2</td>\n",
              "      <td>Myles, Mr. Thomas Francis</td>\n",
              "      <td>male</td>\n",
              "      <td>62.0</td>\n",
              "      <td>0</td>\n",
              "      <td>0</td>\n",
              "      <td>240276</td>\n",
              "      <td>9.6875</td>\n",
              "      <td>NaN</td>\n",
              "      <td>Q</td>\n",
              "    </tr>\n",
              "    <tr>\n",
              "      <th>3</th>\n",
              "      <td>895</td>\n",
              "      <td>3</td>\n",
              "      <td>Wirz, Mr. Albert</td>\n",
              "      <td>male</td>\n",
              "      <td>27.0</td>\n",
              "      <td>0</td>\n",
              "      <td>0</td>\n",
              "      <td>315154</td>\n",
              "      <td>8.6625</td>\n",
              "      <td>NaN</td>\n",
              "      <td>S</td>\n",
              "    </tr>\n",
              "    <tr>\n",
              "      <th>4</th>\n",
              "      <td>896</td>\n",
              "      <td>3</td>\n",
              "      <td>Hirvonen, Mrs. Alexander (Helga E Lindqvist)</td>\n",
              "      <td>female</td>\n",
              "      <td>22.0</td>\n",
              "      <td>1</td>\n",
              "      <td>1</td>\n",
              "      <td>3101298</td>\n",
              "      <td>12.2875</td>\n",
              "      <td>NaN</td>\n",
              "      <td>S</td>\n",
              "    </tr>\n",
              "  </tbody>\n",
              "</table>\n",
              "</div>"
            ],
            "text/plain": [
              "   PassengerId  Pclass  ... Cabin Embarked\n",
              "0          892       3  ...   NaN        Q\n",
              "1          893       3  ...   NaN        S\n",
              "2          894       2  ...   NaN        Q\n",
              "3          895       3  ...   NaN        S\n",
              "4          896       3  ...   NaN        S\n",
              "\n",
              "[5 rows x 11 columns]"
            ]
          },
          "metadata": {
            "tags": []
          },
          "execution_count": 76
        }
      ]
    },
    {
      "cell_type": "code",
      "metadata": {
        "id": "eva5Z1p7l6dX"
      },
      "source": [
        "predict['Age']=predict['Age'].replace(np.nan, round(np.mean(titmlx['Age']),2))\n",
        "predict['Cabin']=predict['Cabin'].replace(np.nan, 'Other')\n",
        "predict['Fare']=predict['Fare'].replace(np.nan, round(np.mean(titmlx['Fare']),2))\n",
        "predict['dependents']=predict['SibSp']+predict['Parch']"
      ],
      "execution_count": null,
      "outputs": []
    },
    {
      "cell_type": "code",
      "metadata": {
        "colab": {
          "base_uri": "https://localhost:8080/"
        },
        "id": "b7aZPy26l-5U",
        "outputId": "8daca259-90ac-4eaf-e710-31de3814f8c5"
      },
      "source": [
        "predict.isna().sum()"
      ],
      "execution_count": null,
      "outputs": [
        {
          "output_type": "execute_result",
          "data": {
            "text/plain": [
              "PassengerId    0\n",
              "Name           0\n",
              "Age            0\n",
              "SibSp          0\n",
              "Parch          0\n",
              "Ticket         0\n",
              "Fare           0\n",
              "Cabin          0\n",
              "Sex_female     0\n",
              "Sex_male       0\n",
              "Embarked_C     0\n",
              "Embarked_Q     0\n",
              "Embarked_S     0\n",
              "Pclass_1       0\n",
              "Pclass_2       0\n",
              "Pclass_3       0\n",
              "dependents     0\n",
              "dtype: int64"
            ]
          },
          "metadata": {
            "tags": []
          },
          "execution_count": 89
        }
      ]
    },
    {
      "cell_type": "code",
      "metadata": {
        "id": "oNxD8WasmWAl",
        "colab": {
          "base_uri": "https://localhost:8080/",
          "height": 308
        },
        "outputId": "d4c01d54-bb3a-4859-d9b9-b0369010d7e5"
      },
      "source": [
        "predict=pd.get_dummies(predict,columns=['Sex','Embarked','Pclass'])"
      ],
      "execution_count": null,
      "outputs": [
        {
          "output_type": "error",
          "ename": "KeyError",
          "evalue": "ignored",
          "traceback": [
            "\u001b[0;31m---------------------------------------------------------------------------\u001b[0m",
            "\u001b[0;31mKeyError\u001b[0m                                  Traceback (most recent call last)",
            "\u001b[0;32m<ipython-input-90-d3aa1116acd3>\u001b[0m in \u001b[0;36m<module>\u001b[0;34m()\u001b[0m\n\u001b[0;32m----> 1\u001b[0;31m \u001b[0mpredict\u001b[0m\u001b[0;34m=\u001b[0m\u001b[0mpd\u001b[0m\u001b[0;34m.\u001b[0m\u001b[0mget_dummies\u001b[0m\u001b[0;34m(\u001b[0m\u001b[0mpredict\u001b[0m\u001b[0;34m,\u001b[0m\u001b[0mcolumns\u001b[0m\u001b[0;34m=\u001b[0m\u001b[0;34m[\u001b[0m\u001b[0;34m'Sex'\u001b[0m\u001b[0;34m,\u001b[0m\u001b[0;34m'Embarked'\u001b[0m\u001b[0;34m,\u001b[0m\u001b[0;34m'Pclass'\u001b[0m\u001b[0;34m]\u001b[0m\u001b[0;34m)\u001b[0m\u001b[0;34m\u001b[0m\u001b[0;34m\u001b[0m\u001b[0m\n\u001b[0m",
            "\u001b[0;32m/usr/local/lib/python3.6/dist-packages/pandas/core/reshape/reshape.py\u001b[0m in \u001b[0;36mget_dummies\u001b[0;34m(data, prefix, prefix_sep, dummy_na, columns, sparse, drop_first, dtype)\u001b[0m\n\u001b[1;32m    841\u001b[0m             \u001b[0;32mraise\u001b[0m \u001b[0mTypeError\u001b[0m\u001b[0;34m(\u001b[0m\u001b[0;34m\"Input must be a list-like for parameter `columns`\"\u001b[0m\u001b[0;34m)\u001b[0m\u001b[0;34m\u001b[0m\u001b[0;34m\u001b[0m\u001b[0m\n\u001b[1;32m    842\u001b[0m         \u001b[0;32melse\u001b[0m\u001b[0;34m:\u001b[0m\u001b[0;34m\u001b[0m\u001b[0;34m\u001b[0m\u001b[0m\n\u001b[0;32m--> 843\u001b[0;31m             \u001b[0mdata_to_encode\u001b[0m \u001b[0;34m=\u001b[0m \u001b[0mdata\u001b[0m\u001b[0;34m[\u001b[0m\u001b[0mcolumns\u001b[0m\u001b[0;34m]\u001b[0m\u001b[0;34m\u001b[0m\u001b[0;34m\u001b[0m\u001b[0m\n\u001b[0m\u001b[1;32m    844\u001b[0m \u001b[0;34m\u001b[0m\u001b[0m\n\u001b[1;32m    845\u001b[0m         \u001b[0;31m# validate prefixes and separator to avoid silently dropping cols\u001b[0m\u001b[0;34m\u001b[0m\u001b[0;34m\u001b[0m\u001b[0;34m\u001b[0m\u001b[0m\n",
            "\u001b[0;32m/usr/local/lib/python3.6/dist-packages/pandas/core/frame.py\u001b[0m in \u001b[0;36m__getitem__\u001b[0;34m(self, key)\u001b[0m\n\u001b[1;32m   2910\u001b[0m             \u001b[0;32mif\u001b[0m \u001b[0mis_iterator\u001b[0m\u001b[0;34m(\u001b[0m\u001b[0mkey\u001b[0m\u001b[0;34m)\u001b[0m\u001b[0;34m:\u001b[0m\u001b[0;34m\u001b[0m\u001b[0;34m\u001b[0m\u001b[0m\n\u001b[1;32m   2911\u001b[0m                 \u001b[0mkey\u001b[0m \u001b[0;34m=\u001b[0m \u001b[0mlist\u001b[0m\u001b[0;34m(\u001b[0m\u001b[0mkey\u001b[0m\u001b[0;34m)\u001b[0m\u001b[0;34m\u001b[0m\u001b[0;34m\u001b[0m\u001b[0m\n\u001b[0;32m-> 2912\u001b[0;31m             \u001b[0mindexer\u001b[0m \u001b[0;34m=\u001b[0m \u001b[0mself\u001b[0m\u001b[0;34m.\u001b[0m\u001b[0mloc\u001b[0m\u001b[0;34m.\u001b[0m\u001b[0m_get_listlike_indexer\u001b[0m\u001b[0;34m(\u001b[0m\u001b[0mkey\u001b[0m\u001b[0;34m,\u001b[0m \u001b[0maxis\u001b[0m\u001b[0;34m=\u001b[0m\u001b[0;36m1\u001b[0m\u001b[0;34m,\u001b[0m \u001b[0mraise_missing\u001b[0m\u001b[0;34m=\u001b[0m\u001b[0;32mTrue\u001b[0m\u001b[0;34m)\u001b[0m\u001b[0;34m[\u001b[0m\u001b[0;36m1\u001b[0m\u001b[0;34m]\u001b[0m\u001b[0;34m\u001b[0m\u001b[0;34m\u001b[0m\u001b[0m\n\u001b[0m\u001b[1;32m   2913\u001b[0m \u001b[0;34m\u001b[0m\u001b[0m\n\u001b[1;32m   2914\u001b[0m         \u001b[0;31m# take() does not accept boolean indexers\u001b[0m\u001b[0;34m\u001b[0m\u001b[0;34m\u001b[0m\u001b[0;34m\u001b[0m\u001b[0m\n",
            "\u001b[0;32m/usr/local/lib/python3.6/dist-packages/pandas/core/indexing.py\u001b[0m in \u001b[0;36m_get_listlike_indexer\u001b[0;34m(self, key, axis, raise_missing)\u001b[0m\n\u001b[1;32m   1252\u001b[0m             \u001b[0mkeyarr\u001b[0m\u001b[0;34m,\u001b[0m \u001b[0mindexer\u001b[0m\u001b[0;34m,\u001b[0m \u001b[0mnew_indexer\u001b[0m \u001b[0;34m=\u001b[0m \u001b[0max\u001b[0m\u001b[0;34m.\u001b[0m\u001b[0m_reindex_non_unique\u001b[0m\u001b[0;34m(\u001b[0m\u001b[0mkeyarr\u001b[0m\u001b[0;34m)\u001b[0m\u001b[0;34m\u001b[0m\u001b[0;34m\u001b[0m\u001b[0m\n\u001b[1;32m   1253\u001b[0m \u001b[0;34m\u001b[0m\u001b[0m\n\u001b[0;32m-> 1254\u001b[0;31m         \u001b[0mself\u001b[0m\u001b[0;34m.\u001b[0m\u001b[0m_validate_read_indexer\u001b[0m\u001b[0;34m(\u001b[0m\u001b[0mkeyarr\u001b[0m\u001b[0;34m,\u001b[0m \u001b[0mindexer\u001b[0m\u001b[0;34m,\u001b[0m \u001b[0maxis\u001b[0m\u001b[0;34m,\u001b[0m \u001b[0mraise_missing\u001b[0m\u001b[0;34m=\u001b[0m\u001b[0mraise_missing\u001b[0m\u001b[0;34m)\u001b[0m\u001b[0;34m\u001b[0m\u001b[0;34m\u001b[0m\u001b[0m\n\u001b[0m\u001b[1;32m   1255\u001b[0m         \u001b[0;32mreturn\u001b[0m \u001b[0mkeyarr\u001b[0m\u001b[0;34m,\u001b[0m \u001b[0mindexer\u001b[0m\u001b[0;34m\u001b[0m\u001b[0;34m\u001b[0m\u001b[0m\n\u001b[1;32m   1256\u001b[0m \u001b[0;34m\u001b[0m\u001b[0m\n",
            "\u001b[0;32m/usr/local/lib/python3.6/dist-packages/pandas/core/indexing.py\u001b[0m in \u001b[0;36m_validate_read_indexer\u001b[0;34m(self, key, indexer, axis, raise_missing)\u001b[0m\n\u001b[1;32m   1296\u001b[0m             \u001b[0;32mif\u001b[0m \u001b[0mmissing\u001b[0m \u001b[0;34m==\u001b[0m \u001b[0mlen\u001b[0m\u001b[0;34m(\u001b[0m\u001b[0mindexer\u001b[0m\u001b[0;34m)\u001b[0m\u001b[0;34m:\u001b[0m\u001b[0;34m\u001b[0m\u001b[0;34m\u001b[0m\u001b[0m\n\u001b[1;32m   1297\u001b[0m                 \u001b[0maxis_name\u001b[0m \u001b[0;34m=\u001b[0m \u001b[0mself\u001b[0m\u001b[0;34m.\u001b[0m\u001b[0mobj\u001b[0m\u001b[0;34m.\u001b[0m\u001b[0m_get_axis_name\u001b[0m\u001b[0;34m(\u001b[0m\u001b[0maxis\u001b[0m\u001b[0;34m)\u001b[0m\u001b[0;34m\u001b[0m\u001b[0;34m\u001b[0m\u001b[0m\n\u001b[0;32m-> 1298\u001b[0;31m                 \u001b[0;32mraise\u001b[0m \u001b[0mKeyError\u001b[0m\u001b[0;34m(\u001b[0m\u001b[0;34mf\"None of [{key}] are in the [{axis_name}]\"\u001b[0m\u001b[0;34m)\u001b[0m\u001b[0;34m\u001b[0m\u001b[0;34m\u001b[0m\u001b[0m\n\u001b[0m\u001b[1;32m   1299\u001b[0m \u001b[0;34m\u001b[0m\u001b[0m\n\u001b[1;32m   1300\u001b[0m             \u001b[0;31m# We (temporarily) allow for some missing keys with .loc, except in\u001b[0m\u001b[0;34m\u001b[0m\u001b[0;34m\u001b[0m\u001b[0;34m\u001b[0m\u001b[0m\n",
            "\u001b[0;31mKeyError\u001b[0m: \"None of [Index(['Sex', 'Embarked', 'Pclass'], dtype='object')] are in the [columns]\""
          ]
        }
      ]
    },
    {
      "cell_type": "code",
      "metadata": {
        "id": "_KX_BtsxUhyQ"
      },
      "source": [
        "predict['dependents']=predict['SibSp']+predict['Parch']"
      ],
      "execution_count": null,
      "outputs": []
    },
    {
      "cell_type": "code",
      "metadata": {
        "id": "bwzLbYqImY59"
      },
      "source": [
        "predictx= predict.loc[:, index]\n"
      ],
      "execution_count": null,
      "outputs": []
    },
    {
      "cell_type": "code",
      "metadata": {
        "colab": {
          "base_uri": "https://localhost:8080/",
          "height": 203
        },
        "id": "vEmqtlZmuue7",
        "outputId": "f79e7270-9fb1-4dc2-e7fb-418ca9fa5f49"
      },
      "source": [
        "predictx.head()"
      ],
      "execution_count": null,
      "outputs": [
        {
          "output_type": "execute_result",
          "data": {
            "text/html": [
              "<div>\n",
              "<style scoped>\n",
              "    .dataframe tbody tr th:only-of-type {\n",
              "        vertical-align: middle;\n",
              "    }\n",
              "\n",
              "    .dataframe tbody tr th {\n",
              "        vertical-align: top;\n",
              "    }\n",
              "\n",
              "    .dataframe thead th {\n",
              "        text-align: right;\n",
              "    }\n",
              "</style>\n",
              "<table border=\"1\" class=\"dataframe\">\n",
              "  <thead>\n",
              "    <tr style=\"text-align: right;\">\n",
              "      <th></th>\n",
              "      <th>Age</th>\n",
              "      <th>dependents</th>\n",
              "      <th>Fare</th>\n",
              "      <th>Sex_female</th>\n",
              "      <th>Sex_male</th>\n",
              "      <th>Embarked_C</th>\n",
              "      <th>Embarked_Q</th>\n",
              "      <th>Embarked_S</th>\n",
              "      <th>Pclass_1</th>\n",
              "      <th>Pclass_2</th>\n",
              "      <th>Pclass_3</th>\n",
              "    </tr>\n",
              "  </thead>\n",
              "  <tbody>\n",
              "    <tr>\n",
              "      <th>0</th>\n",
              "      <td>34.5</td>\n",
              "      <td>0</td>\n",
              "      <td>7.8292</td>\n",
              "      <td>0</td>\n",
              "      <td>1</td>\n",
              "      <td>0</td>\n",
              "      <td>1</td>\n",
              "      <td>0</td>\n",
              "      <td>0</td>\n",
              "      <td>0</td>\n",
              "      <td>1</td>\n",
              "    </tr>\n",
              "    <tr>\n",
              "      <th>1</th>\n",
              "      <td>47.0</td>\n",
              "      <td>1</td>\n",
              "      <td>7.0000</td>\n",
              "      <td>1</td>\n",
              "      <td>0</td>\n",
              "      <td>0</td>\n",
              "      <td>0</td>\n",
              "      <td>1</td>\n",
              "      <td>0</td>\n",
              "      <td>0</td>\n",
              "      <td>1</td>\n",
              "    </tr>\n",
              "    <tr>\n",
              "      <th>2</th>\n",
              "      <td>62.0</td>\n",
              "      <td>0</td>\n",
              "      <td>9.6875</td>\n",
              "      <td>0</td>\n",
              "      <td>1</td>\n",
              "      <td>0</td>\n",
              "      <td>1</td>\n",
              "      <td>0</td>\n",
              "      <td>0</td>\n",
              "      <td>1</td>\n",
              "      <td>0</td>\n",
              "    </tr>\n",
              "    <tr>\n",
              "      <th>3</th>\n",
              "      <td>27.0</td>\n",
              "      <td>0</td>\n",
              "      <td>8.6625</td>\n",
              "      <td>0</td>\n",
              "      <td>1</td>\n",
              "      <td>0</td>\n",
              "      <td>0</td>\n",
              "      <td>1</td>\n",
              "      <td>0</td>\n",
              "      <td>0</td>\n",
              "      <td>1</td>\n",
              "    </tr>\n",
              "    <tr>\n",
              "      <th>4</th>\n",
              "      <td>22.0</td>\n",
              "      <td>2</td>\n",
              "      <td>12.2875</td>\n",
              "      <td>1</td>\n",
              "      <td>0</td>\n",
              "      <td>0</td>\n",
              "      <td>0</td>\n",
              "      <td>1</td>\n",
              "      <td>0</td>\n",
              "      <td>0</td>\n",
              "      <td>1</td>\n",
              "    </tr>\n",
              "  </tbody>\n",
              "</table>\n",
              "</div>"
            ],
            "text/plain": [
              "    Age  dependents     Fare  ...  Pclass_1  Pclass_2  Pclass_3\n",
              "0  34.5           0   7.8292  ...         0         0         1\n",
              "1  47.0           1   7.0000  ...         0         0         1\n",
              "2  62.0           0   9.6875  ...         0         1         0\n",
              "3  27.0           0   8.6625  ...         0         0         1\n",
              "4  22.0           2  12.2875  ...         0         0         1\n",
              "\n",
              "[5 rows x 11 columns]"
            ]
          },
          "metadata": {
            "tags": []
          },
          "execution_count": 93
        }
      ]
    },
    {
      "cell_type": "code",
      "metadata": {
        "id": "L0ooGBLmoqH6"
      },
      "source": [
        "predicty= model.predict(predictx)"
      ],
      "execution_count": null,
      "outputs": []
    },
    {
      "cell_type": "code",
      "metadata": {
        "colab": {
          "base_uri": "https://localhost:8080/"
        },
        "id": "CITIVpbzpFrl",
        "outputId": "211f9889-025f-47b0-b893-881e441e621b"
      },
      "source": [
        "\n",
        "len(np.arange(892,891+419,1))"
      ],
      "execution_count": null,
      "outputs": [
        {
          "output_type": "execute_result",
          "data": {
            "text/plain": [
              "418"
            ]
          },
          "metadata": {
            "tags": []
          },
          "execution_count": 95
        }
      ]
    },
    {
      "cell_type": "code",
      "metadata": {
        "id": "SfmBEVaSpWa5"
      },
      "source": [
        "out =pd.DataFrame({\n",
        "    'PassengerId' : np.arange(892,891+419,1).tolist(), \n",
        "    'Survived': predicty.tolist()\n",
        "})"
      ],
      "execution_count": null,
      "outputs": []
    },
    {
      "cell_type": "code",
      "metadata": {
        "colab": {
          "base_uri": "https://localhost:8080/",
          "height": 17
        },
        "id": "GilD_nKFpYEf",
        "outputId": "6c151b98-b25c-4ba4-ad89-44cc7baef70f"
      },
      "source": [
        "from google.colab import files\n",
        "out.to_csv('Output4.csv',index=False)\n",
        "files.download('Output4.csv')"
      ],
      "execution_count": null,
      "outputs": [
        {
          "output_type": "display_data",
          "data": {
            "application/javascript": [
              "\n",
              "    async function download(id, filename, size) {\n",
              "      if (!google.colab.kernel.accessAllowed) {\n",
              "        return;\n",
              "      }\n",
              "      const div = document.createElement('div');\n",
              "      const label = document.createElement('label');\n",
              "      label.textContent = `Downloading \"${filename}\": `;\n",
              "      div.appendChild(label);\n",
              "      const progress = document.createElement('progress');\n",
              "      progress.max = size;\n",
              "      div.appendChild(progress);\n",
              "      document.body.appendChild(div);\n",
              "\n",
              "      const buffers = [];\n",
              "      let downloaded = 0;\n",
              "\n",
              "      const channel = await google.colab.kernel.comms.open(id);\n",
              "      // Send a message to notify the kernel that we're ready.\n",
              "      channel.send({})\n",
              "\n",
              "      for await (const message of channel.messages) {\n",
              "        // Send a message to notify the kernel that we're ready.\n",
              "        channel.send({})\n",
              "        if (message.buffers) {\n",
              "          for (const buffer of message.buffers) {\n",
              "            buffers.push(buffer);\n",
              "            downloaded += buffer.byteLength;\n",
              "            progress.value = downloaded;\n",
              "          }\n",
              "        }\n",
              "      }\n",
              "      const blob = new Blob(buffers, {type: 'application/binary'});\n",
              "      const a = document.createElement('a');\n",
              "      a.href = window.URL.createObjectURL(blob);\n",
              "      a.download = filename;\n",
              "      div.appendChild(a);\n",
              "      a.click();\n",
              "      div.remove();\n",
              "    }\n",
              "  "
            ],
            "text/plain": [
              "<IPython.core.display.Javascript object>"
            ]
          },
          "metadata": {
            "tags": []
          }
        },
        {
          "output_type": "display_data",
          "data": {
            "application/javascript": [
              "download(\"download_d2b2a3c9-c5cb-4b71-a7c7-9f82b1bc0fbb\", \"Output4.csv\", 2839)"
            ],
            "text/plain": [
              "<IPython.core.display.Javascript object>"
            ]
          },
          "metadata": {
            "tags": []
          }
        }
      ]
    },
    {
      "cell_type": "code",
      "metadata": {
        "colab": {
          "base_uri": "https://localhost:8080/"
        },
        "id": "bWO4OHYyrD-S",
        "outputId": "69144fd5-5bd5-4c4a-b85e-283184693a70"
      },
      "source": [
        "\n",
        "predictx.isna().sum()"
      ],
      "execution_count": null,
      "outputs": [
        {
          "output_type": "execute_result",
          "data": {
            "text/plain": [
              "Age           86\n",
              "dependents     0\n",
              "Fare           1\n",
              "Sex_female     0\n",
              "Sex_male       0\n",
              "Embarked_C     0\n",
              "Embarked_Q     0\n",
              "Embarked_S     0\n",
              "Pclass_1       0\n",
              "Pclass_2       0\n",
              "Pclass_3       0\n",
              "dtype: int64"
            ]
          },
          "metadata": {
            "tags": []
          },
          "execution_count": 83
        }
      ]
    },
    {
      "cell_type": "markdown",
      "metadata": {
        "id": "DBuMkL6NzIz3"
      },
      "source": [
        "### *** Answer 10: On checking the test data in Kaggle my accuracy came out to be 76.55% ![Titaccuracy.PNG](data:image/png;base64,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)"
      ]
    },
    {
      "cell_type": "code",
      "metadata": {
        "id": "RZsjnUlJruNS"
      },
      "source": [
        ""
      ],
      "execution_count": null,
      "outputs": []
    }
  ]
}